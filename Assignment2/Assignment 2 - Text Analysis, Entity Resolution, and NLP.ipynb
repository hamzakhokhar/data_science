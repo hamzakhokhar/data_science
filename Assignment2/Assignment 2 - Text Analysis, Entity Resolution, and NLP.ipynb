{
 "cells": [
  {
   "cell_type": "markdown",
   "metadata": {},
   "source": [
    "## Last Name: Khokhar\n",
    "## First Name: Hamza"
   ]
  },
  {
   "cell_type": "markdown",
   "metadata": {},
   "source": [
    "# CSCI 4580/5580 - Data Science – Fall 2020\n",
    "## Assignment 2: Text Analysis, Entity Resolution, and NLP\n",
    "\n",
    "#### **Name**: Hamza Khokhar\n",
    "\n",
    "#### **Student ID**: 109644074"
   ]
  },
  {
   "cell_type": "markdown",
   "metadata": {},
   "source": [
    "### Deliverables\n",
    "Complete all the exercises below and turn in a write up in the form of a Jupyuter notebook, that is, **an .ipynb file**.\n",
    "The write up should include your code, answers to exercise questions, and plots of results.\n",
    "The submission will be as an assignment on Canvas with this file (after your edits) as an attachment. \n",
    "\n",
    "You have to use this notebook and fill in answers inline.\n",
    "Don't forget to include answers to questions that ask for natural language responses, i.e., in English, not code!\n",
    "\n",
    "Please do not add or remove any cells (you can add cells while doing the homework but remove them before submission)."
   ]
  },
  {
   "cell_type": "markdown",
   "metadata": {},
   "source": [
    "### Need Help? \n",
    "In case you need help with this assignment, please ask your questions on the designated channel for Assignment 2 on Microsoft Teams. This way, you may receive assistance from the TA’s or your classmates (<b>DO NOT share your solution</b>) [Recommended]. \n",
    "<br/>If you need to include your solution in your question, please create a new chat with <b>all the TA’s</b> (in the new chat, add all the TA’s rather than sending your question to the TA’s separately).\n"
   ]
  },
  {
   "cell_type": "markdown",
   "metadata": {},
   "source": [
    "### Collaboration\n",
    "This assignment is to be done individually. Everyone should be getting a hands on experience in this course. You are free to discuss course material with fellow students, and we encourage you to use Internet resources to aid your understanding, but the work you turn in, including all code and answers, must be your own work."
   ]
  },
  {
   "cell_type": "markdown",
   "metadata": {},
   "source": [
    "Let's Get Started!\n",
    "===\n",
    "\n",
    "## Overview\n",
    "\n",
    "Entity resolution is a common, yet difficult problem in data cleaning and integration.\n",
    "In this assignment, we will use powerful and scalable text analysis techniques to perform entity resolution across two data sets of commercial products."
   ]
  },
  {
   "cell_type": "markdown",
   "metadata": {},
   "source": [
    "### Entity Resolution\n",
    "\n",
    "Entity resolution, also known as record deduplication, is the process of identifying rows in one or more data sets that refer to the same real world entity.\n",
    "Take an example.\n",
    "You're on ebay looking for a [hip data science accessory][sliderulewiki], but you're on a budget, so you decide to scrape the [ebay listings][ebay] for a few days to get a feel for the market.\n",
    "Unfortunately, the listings are confusing and you don't know how to aggregate them.\n",
    "Entity resolution to the rescue!\n",
    "You find an [authoritative database][sliderules] and map all the ebay listings to it.\n",
    "Now you can comparison shop, get that sweet Keuffel and Esser for way cheap, and impress all the data hipsters.\n",
    "\n",
    "But finding matching records is a hard problem in general.\n",
    "A major reason is that the criteria for identifying duplicates are often vague and impossible to encode in rules.\n",
    "In addition, from a purely computational perspective, the problem is quadratic in the size of its inputs: naively, all pairs of records need to be compared to find all the duplicates.\n",
    "In this assignment, we will begin to address both these challenges.\n",
    "\n",
    "[sliderulewiki]: http://en.wikipedia.org/wiki/Slide_rule \"Only 2X faster than Hadoop\"\n",
    "\n",
    "[sliderules]: http://www.sliderule.ca/ \"Artisanal Data Technology\"\n",
    "\n",
    "[ebay]: http://www.ebay.com/sch/i.html?_odkw=keuffel+esser+slide+rule&_osacat=0&_trksid=p2045573.m570.l1313.TR0.TRC0.Xslide+rule&_nkw=slide+rule&_sacat=0&_from=R40 \"Impress your colleagues\""
   ]
  },
  {
   "cell_type": "markdown",
   "metadata": {},
   "source": [
    "\n",
    "### Application\n",
    "\n",
    "Your assignment is to perform entity resolution over two web-scraped data sets of commercial product listings, one from Amazon, and one from Google.\n",
    "The goal is to build a unified database of all products listed on the Internet: a one-stop-shop for all your shopping needs.  (Elevator pitch: *it's like **Kayak.com** for **e-commerce**!*)\n",
    "\n",
    "The web has made unprecedented amounts of data available publicly, but scraped data frequently needs to be de-duplicated.\n",
    "These data sets are typical examples of what you can collect with some simple scripting.\n",
    "The data is not especially large (just a few thousand records), but even so, you will find that entity resolution is a major challenge (top results with this data are ~50% success rate).\n",
    "Don't get discouraged; the goal is to get acquainted with techniques to tackle the problem, and apply them to a representative example."
   ]
  },
  {
   "cell_type": "markdown",
   "metadata": {},
   "source": [
    "### Files\n",
    "\n",
    "Data files for this assignment can be in the Data.zip file available on Canvas.\n",
    "\n",
    "The zip file includes the following files:\n",
    "\n",
    "* **Google_small.csv**, 200 records sampled from the Google data\n",
    "* **Amazon_small.csv**, 200 records sampled from the Amazon data\n",
    "* **Amazon_Google_perfectMapping.csv**, the \"gold standard\" mapping of duplicates\n",
    "* **stopwords.txt**, a list of common English words\n",
    "\n",
    "Besides the complete data files, there are \"sample\" data files for each data set.\n",
    "Use these for **Part 1**.\n",
    "In addition, there is a \"gold standard\" file that contains all of the true mappings between duplicate entities in the two data sets.\n",
    "Every row in the gold standard file has a pair of record IDs (one Google, one Amazon) that belong to two record that describe the same thing in the real world.\n",
    "We will use the gold standard to evaluate our algorithms."
   ]
  },
  {
   "cell_type": "markdown",
   "metadata": {},
   "source": [
    "### Deliverables\n",
    "\n",
    "Complete all the exercises below and turn in a write up in the form of an IPython notebook, that is, **an .ipynb file**.\n",
    "The write up should include your code, answers to exercise questions, and plots of results.\n",
    "Submit your notebook on Canvas under A2. \n",
    "\n",
    "You must use this notebook and fill in answers inline.\n",
    "In this notebook, we provide code templates for many of the exercises.\n",
    "They are intended to help with code re-use, since the exercises build on each other, and are highly recommended.\n",
    "Don't forget to include answers to questions that ask for natural language responses, i.e., in English, not code!\n",
    "\n",
    "We will test your code automatically, so in your submitted notebook function names must conform the names requested by the questions and that can be executed with \"Cell > Run all\"."
   ]
  },
  {
   "cell_type": "markdown",
   "metadata": {},
   "source": [
    "## Part 0: Preliminaries\n",
    "Download the data from Canvas and uncompress/unarchive it.\n",
    "Read each file in from the file system, and store them in Pandas DataFrames.\n",
    "\n",
    "For each of the data files (\"Google_small.csv\", \"Amazon_small.csv\"), we want to parse the IDs out of each record.\n",
    "The IDs are the first column of the file (they are URLs for Google, and alphanumeric strings for Amazon).\n"
   ]
  },
  {
   "cell_type": "code",
   "execution_count": 2,
   "metadata": {},
   "outputs": [],
   "source": [
    "import pandas as pd\n",
    "import numpy as np\n",
    "import nltk\n",
    "import glob\n",
    "import csv\n",
    "import re"
   ]
  },
  {
   "cell_type": "markdown",
   "metadata": {},
   "source": [
    "#### Q1 [5 Points]\n",
    "The two files we will use for this section can be found in the 'Data.zip' file you downloaded from Canvas.\n",
    "* Amazon_small.csv\n",
    "* Google_small.csv\n",
    "\n",
    "Each file will contain the columns `id`,`name`,`description`,`manufacturer`, and `price` in this order.\n",
    "\n",
    "**Q1.a -** Download the data and read each of the below files into a Pandas Dataframe. The `amazon_small` variable is shown as an example.\n",
    "\n",
    "**Q1.b -** Set the `id` column as the index of the Dataframe for all of the files. For the \"Amazon\" file, the values in the `id` column are usable as-is. However, the Google file has URLs in the `id` column, which are clumsy to use as ids. Strip out the id number (the number at the end of the URL) for each value in the `id` column in the Google file and use these id numbers as the index."
   ]
  },
  {
   "cell_type": "code",
   "execution_count": 3,
   "metadata": {},
   "outputs": [],
   "source": [
    "# TODO: Q1.a\n",
    "amazon_small = pd.read_csv(\"Amazon_small.csv\",encoding=\"latin-1\",dtype=str,quotechar='\"',keep_default_na=False)\n",
    "google_small = pd.read_csv(\"Google_small.csv\",encoding=\"latin-1\",dtype=str,quotechar='\"',keep_default_na=False)"
   ]
  },
  {
   "cell_type": "markdown",
   "metadata": {},
   "source": [
    "**TIP:** The rsplit function splits a string into a list of string using a specified delimiter. `rsplit` starts at the end of the string, `split` starts at the front. The `maxsplit` parameter controls how many splits are performed.\n",
    "\n",
    "**Bonus TIP:** We recommend creating a function (or using a lambda), then using the Dataframe `apply` function to apply your function over the `id` column."
   ]
  },
  {
   "cell_type": "code",
   "execution_count": 4,
   "metadata": {},
   "outputs": [
    {
     "name": "stdout",
     "output_type": "stream",
     "text": [
      "['http://mylegitmate.biz/files/2020', '2053942']\n",
      "2053942\n"
     ]
    }
   ],
   "source": [
    "# Example of splitting a fake URL using rsplit\n",
    "my_fake_url = \"http://mylegitmate.biz/files/2020/2053942\"\n",
    "my_fake_url_split = my_fake_url.rsplit(\"/\",maxsplit=1)\n",
    "print(my_fake_url_split)\n",
    "# Last element in the list is the ID we want.\n",
    "print(my_fake_url_split[-1])"
   ]
  },
  {
   "cell_type": "code",
   "execution_count": 5,
   "metadata": {},
   "outputs": [],
   "source": [
    "# TODO: Q1.b\n",
    "# TODO: Set the index of amazon_small to be the \"id\" column\n",
    "amazon_small = amazon_small.set_index('id')\n",
    "\n",
    "# TODO: Transform the id columns of the google dataset to strip out the URL\n",
    "google_small[\"id\"] = google_small['id'].apply(lambda x: x.split('/')[-1])\n",
    "\n",
    "\n",
    "# TODO: Set the index of the google datasets to be the \"id\" column\n",
    "google_small = google_small.set_index('id')"
   ]
  },
  {
   "cell_type": "markdown",
   "metadata": {},
   "source": [
    "Since all of the columns are Series containing strings, we can use the `+` operator to combine the columns together, creating a new column that is the string concatenation of the `name`, `description`, and `manufacturer` columns. This means we only need to tokenize one string per row/entry."
   ]
  },
  {
   "cell_type": "code",
   "execution_count": 6,
   "metadata": {},
   "outputs": [],
   "source": [
    "def concat_columns(series):\n",
    "    return \" \".join([series.title,series.description,series.manufacturer])\n",
    "\n",
    "amazon_small[\"all_text\"] = amazon_small.apply(concat_columns,axis=1)\n",
    "google_small[\"all_text\"] = google_small.apply(concat_columns,axis=1)"
   ]
  },
  {
   "cell_type": "markdown",
   "metadata": {},
   "source": [
    "## Part 1: ER using Text Similarity\n",
    "\n",
    "A simple approach to entity resolution is to treat all records as strings and compute their similarity with a string distance function.\n",
    "In this section, we will build some components for bag-of-words text-analysis, and use them to compute record similarity.\n",
    "\n",
    "### 1.1 Bags of Words\n",
    "\n",
    "Bag-of-words is a conceptually simple yet powerful approach to text analysis.\n",
    "The idea is to treat strings, a.k.a. **documents**, as *unordered collections* of words, or **tokens**, i.e., as bags of words.\n",
    "\n",
    "> **Note on terminology**: \"token\" is more general than what we ordinarily mean by \"word\" and includes things like numbers, acronyms, and other exotica like word-roots and fixed-length character strings.\n",
    "> Bag of words techniques all apply to any sort of token, so when we say \"bag-of-words\" we really mean \"bag-of-tokens,\" strictly speaking.\n",
    "\n",
    "Tokens become the atomic unit of text comparison.\n",
    "If we want to compare two documents, we count how many tokens they share in common.\n",
    "If we want to search for documents with keyword queries (this is what Google does), then we turn the keywords into tokens and find documents that contain them.\n",
    "\n",
    "The power of this approach is that it makes string comparisons insensitive to small differences that probably do not affect meaning much, for example, punctuation and word order.\n",
    "\n"
   ]
  },
  {
   "cell_type": "code",
   "execution_count": 7,
   "metadata": {},
   "outputs": [],
   "source": [
    "from nltk.tokenize import regexp_tokenize\n",
    "quickbrownfox = \"A quick brown fox jumps over the lazy dog.\"\n",
    "split_regex = r'[a-zA-Z_]+'"
   ]
  },
  {
   "cell_type": "markdown",
   "metadata": {},
   "source": [
    "#### Q2 [5 points]\n",
    "\n",
    "Implement the function `simple_tokenize(string)` that takes a string and returns a list of tokens in the string. `simple_tokenize` should split strings using the provided regular expression, and **convert the strings to lowercase**. \n",
    "\n",
    "\n",
    "**Tip:**\n",
    "*The NLTK toolkit provides many functions for tokenizing words, some of which use special pre-trained models. For this question, you may use the `regexp_tokenize` function, which splits a string based on a given regular expression. You may also use python's built-in `re` library to match the regular expression if you wish.* `regexp_tokenize` will split the string, but you must perform the lowercase conversion yourself."
   ]
  },
  {
   "cell_type": "code",
   "execution_count": 8,
   "metadata": {},
   "outputs": [
    {
     "name": "stdout",
     "output_type": "stream",
     "text": [
      "['a', 'quick', 'brown', 'fox', 'jumps', 'over', 'the', 'lazy', 'dog']\n"
     ]
    }
   ],
   "source": [
    "# TODO Implement this function\n",
    "\n",
    "def simple_tokenize(string):\n",
    "    string = string.lower()\n",
    "    tokens = regexp_tokenize(string,split_regex)\n",
    "    return tokens\n",
    "\n",
    "print(simple_tokenize(quickbrownfox)) # Should give ['a', 'quick', 'brown', ... ]\n",
    "# Simple testcases\n",
    "assert(simple_tokenize(\" \") == [])\n",
    "assert(simple_tokenize(quickbrownfox) == ['a','quick','brown','fox','jumps','over','the','lazy','dog'])"
   ]
  },
  {
   "cell_type": "markdown",
   "metadata": {},
   "source": [
    "#### Q3 [5 points]\n",
    "Give an interpretation of what the regular expression `split_regex` is doing.\n",
    "\n",
    "***TODO: The split regex is basically splitting the sring with whitespace with all character a_z and A-Z***"
   ]
  },
  {
   "cell_type": "markdown",
   "metadata": {},
   "source": [
    "#### Q4 [10 points]\n",
    "\n",
    "Stopwords are common words that do not contribute much to the content or meaning of a document (e.g., \"the\", \"a\", \"is\", \"to\", etc.). Stopwords add noise to bag-of-words comparisons, so the are usually excluded. \n",
    "\n",
    "Using the included file \"stopwords.txt\", implement tokenize, an improved tokenizer that does not emit stopwords.\n",
    "\n",
    "You may use a method of your choosing to read in the \"stopwords.txt\" file (Suggested methods are Pandas `read_csv` and Python's `csv` library).\n",
    "\n",
    "**TIP:** *We recommend converting the list of stop words to a python `set` so that you can easily test membership using the `in` operator (i.e. `x in y` returns `True` if `x` is a member of set `y`).*"
   ]
  },
  {
   "cell_type": "code",
   "execution_count": 9,
   "metadata": {},
   "outputs": [
    {
     "name": "stdout",
     "output_type": "stream",
     "text": [
      "['quick', 'brown', 'fox', 'jumps', 'lazy', 'dog']\n"
     ]
    }
   ],
   "source": [
    "#stopwords = <your code here>\n",
    "# TODO Implement this function\n",
    "stop_words = pd.read_csv(\"stopwords.txt\",header = None)\n",
    "stop_words = stop_words.iloc[:, 0]\n",
    "stop_words=set(stop_words)\n",
    "def tokenize(string):\n",
    "    words = simple_tokenize(string)\n",
    "    filtered_string = [] \n",
    "  \n",
    "    for w in words: \n",
    "        if w not in stop_words: \n",
    "            filtered_string.append(w) \n",
    "  \n",
    "    return filtered_string\n",
    "\n",
    "    \n",
    "\n",
    "print(tokenize(quickbrownfox)) # Should give ['quick', 'brown', ... ]\n",
    "\n",
    "assert(tokenize(\"Why a the?\") == [])\n",
    "assert(tokenize(quickbrownfox) == ['quick','brown','fox','jumps','lazy','dog'])"
   ]
  },
  {
   "cell_type": "markdown",
   "metadata": {},
   "source": [
    "### 1.2 Weighted Bag-of-Words: TF-IDF\n",
    "\n",
    "Bag-of-words comparisons are not very good when all tokens are treated the same: some tokens are more important than others.\n",
    "Weights give us a way to specify which tokens to favor.\n",
    "With weights, when we compare documents, instead of counting common tokens, we sum up the weights of common tokens.\n",
    "\n",
    "A good heuristic for assigning weights is called \"Term-Frequency/Inverse-Document-Frequency,\" or TF-IDF for short.\n",
    "\n",
    "#### TF\n",
    "\n",
    "TF rewards tokens that appear more in the same document.\n",
    "It is computed as the frequency of a token in a document, that is, if token `t` appears 5 times in document `d` then the TF of `t` in `d` is `5`. The intuition for TF is that if a word occurs often in a document, then it is more important to the meaning of the document.\n",
    "\n",
    "#### IDF\n",
    "\n",
    "IDF rewards tokens that are rare across the documents in a data set.\n",
    "The intuition is that it is more significant if two documents share a rare word than a common one.\n",
    "IDF weight for a token, *t*, in a set of documents, *U*, is computed as follows: \n",
    "\n",
    "* Let *N* be the total number of documents in *U*\n",
    "* Find *n(t)*, the number of documents in *U* that contain *t*\n",
    "* Then *IDF(t) = log(N/(1+n(t)))*.\n",
    "\n",
    "Note we are actually using the log of the inverse document frequency, which typically works better than the raw inverse frequency. But the terminology \"IDF\" still applies.\n",
    "\n",
    "#### TF-IDF\n",
    "\n",
    "Finally, to bring it all together, the total TF-IDF weight for a token in a document is the product of its TF and IDF weights.\n",
    "\n",
    "In this section, we will use the `TfidfVectorizer` class provided by `scikit-learn` to generate TF-IDF vectors for each of the records in both the Amazon and Google datasets. Each record $i$ will be represented by a vector of $N$ weights,\n",
    "$$ x_i = [w_0,w_1,...,w_N] $$\n",
    "where $N$ is the number of words in the vocabulary set. \n",
    "\n",
    "For example, $w_0$ represents the TF-IDF weight of the first word in the vocabulary for this document."
   ]
  },
  {
   "cell_type": "markdown",
   "metadata": {},
   "source": [
    "First, we need choose a vocabulary for our vectors. This vocabulary should contain all of the unique words from both the Amazon and Google datasets."
   ]
  },
  {
   "cell_type": "code",
   "execution_count": 10,
   "metadata": {},
   "outputs": [],
   "source": [
    "from sklearn.feature_extraction.text import TfidfVectorizer\n",
    "from collections import Counter"
   ]
  },
  {
   "cell_type": "code",
   "execution_count": 11,
   "metadata": {},
   "outputs": [],
   "source": [
    "all_amazon_words = amazon_small[\"all_text\"].apply(tokenize).sum()\n",
    "all_google_words = google_small[\"all_text\"].apply(tokenize).sum()"
   ]
  },
  {
   "cell_type": "code",
   "execution_count": 12,
   "metadata": {},
   "outputs": [
    {
     "name": "stdout",
     "output_type": "stream",
     "text": [
      "Total Amazon Tokens: 16047\n",
      "Total Google Tokens: 5360\n"
     ]
    }
   ],
   "source": [
    "print(\"Total Amazon Tokens: %d\" % len(all_amazon_words))\n",
    "print(\"Total Google Tokens: %d\" % len(all_google_words))"
   ]
  },
  {
   "cell_type": "markdown",
   "metadata": {},
   "source": [
    "#### Q5 [10 Points]\n",
    "\n",
    "The two lists `all_amazon_words` and `all_google_words` are raw lists of tokens in each of the two datasets. \n",
    "Create a single python `set` called `vocab` that is the set of unique words from both lists with counts greater than 2 (i.e., if the word appears 2 or more times across both datsets, include it in the vocabulary)."
   ]
  },
  {
   "cell_type": "code",
   "execution_count": 13,
   "metadata": {},
   "outputs": [
    {
     "name": "stdout",
     "output_type": "stream",
     "text": [
      "2563\n"
     ]
    }
   ],
   "source": [
    "# TODO: Create a single set() vocabulary that contains the unique words in both datasets.\n",
    "\n",
    "all_words = all_amazon_words + all_google_words\n",
    "word_count = [i for i, count in Counter(all_words).items() if count >= 2]\n",
    "vocab = set(word_count)\n",
    "    \n",
    "\n",
    "# Your set should contain 2563 unique words.\n",
    "print(len(vocab))\n",
    "assert(len(vocab) == 2563)"
   ]
  },
  {
   "cell_type": "markdown",
   "metadata": {},
   "source": [
    "Now we will create the `TfidfVectorizer` object. We pass in three parameters:\n",
    "\n",
    "- `analyzer=tokenize` - This passes the `tokenize` function you made previously as a custom parser for the data.\n",
    "- `vocabulary=vocab` - This passes the `vocab` custom vocabulary set to the vectorizer.\n",
    "- `norm=\"l2\"` - This sets the sample normalization to `\"l2\"`. This is actually the default parameter setting, but we wanted you to notice that the `TfidfVectorizer` is doing this for you (it will be important soon)."
   ]
  },
  {
   "cell_type": "code",
   "execution_count": 14,
   "metadata": {},
   "outputs": [],
   "source": [
    "tfidf_vec = TfidfVectorizer(analyzer=tokenize,vocabulary=vocab,norm=\"l2\")"
   ]
  },
  {
   "cell_type": "markdown",
   "metadata": {},
   "source": [
    "Now, we need to concatenate the two dataframes together, in order to fit the vectorizer on all of the data."
   ]
  },
  {
   "cell_type": "code",
   "execution_count": 15,
   "metadata": {},
   "outputs": [
    {
     "data": {
      "text/plain": [
       "<400x2563 sparse matrix of type '<class 'numpy.float64'>'\n",
       "\twith 12440 stored elements in Compressed Sparse Row format>"
      ]
     },
     "execution_count": 15,
     "metadata": {},
     "output_type": "execute_result"
    }
   ],
   "source": [
    "# Combine all data for model fitting. \n",
    "# NOTE: Amazon entries are the first 200 rows (0-199), Google entries are the next 200 rows (200-399)\n",
    "all_data = pd.concat([amazon_small,google_small])\n",
    "all_data_tfidf = tfidf_vec.fit_transform(all_data.all_text)\n",
    "all_data_tfidf"
   ]
  },
  {
   "cell_type": "markdown",
   "metadata": {},
   "source": [
    "Verify that your `all_data_tfidf` says:\n",
    "```\n",
    "<400x2563 sparse matrix of type '<class 'numpy.float64'>'\n",
    "\twith 12440 stored elements in Compressed Sparse Row format>\n",
    "    ```\n",
    "The sparse matrix format is a space-efficient way to store large matrices when most entries are 0. The sparse matrix only stores values for non-zero entries.\n",
    "\n",
    "The `tfidf_vec` object also has some information about the idf weights for each of our vocabulary words, stored in `tfidf_vecidf_`, as well as a mapping between vocabulary words and vector indices stored in `tfidf_vec.vocabulary_`."
   ]
  },
  {
   "cell_type": "markdown",
   "metadata": {},
   "source": [
    "#### Q6 [10 points]\n",
    "\n",
    "**Q6.a -** Use the `.idf_` member of `tfidf_vec` to plot a histogram of the idf weights. This should be an interpretable chart (i.e. Give the chart a title and label both axes).\n",
    "\n",
    "**Q6.b -** Use the `.idf_` and `.vocabulary_` members of `tfidf_vec` to generate a mapping between each vocabulary word and its IDF weight. Print the terms and weights for the **5 lowest** and **5 highest** IDF weights. Provide an interpretation of the meaning of these weights."
   ]
  },
  {
   "cell_type": "code",
   "execution_count": 24,
   "metadata": {},
   "outputs": [
    {
     "data": {
      "image/png": "[encoded data removed]",
      "text/plain": [
       "<Figure size 432x288 with 1 Axes>"
      ]
     },
     "metadata": {
      "needs_background": "light"
     },
     "output_type": "display_data"
    }
   ],
   "source": [
    "from matplotlib import pyplot as plt\n",
    "# TODO: Q6.a - Plot a histogram of the IDF weights. Make sure to use a title and label your axes correctly\n",
    "values = tfidf_vec.idf_\n",
    "plt.hist(values,6)\n",
    "plt.title('Histogram for word count',)\n",
    "plt.xlabel('idf weights')\n",
    "plt.ylabel('words in vocab')\n",
    "\n",
    "plt.show()\n"
   ]
  },
  {
   "cell_type": "code",
   "execution_count": 17,
   "metadata": {},
   "outputs": [
    {
     "data": {
      "text/html": [
       "<div>\n",
       "<style scoped>\n",
       "    .dataframe tbody tr th:only-of-type {\n",
       "        vertical-align: middle;\n",
       "    }\n",
       "\n",
       "    .dataframe tbody tr th {\n",
       "        vertical-align: top;\n",
       "    }\n",
       "\n",
       "    .dataframe thead th {\n",
       "        text-align: right;\n",
       "    }\n",
       "</style>\n",
       "<table border=\"1\" class=\"dataframe\">\n",
       "  <thead>\n",
       "    <tr style=\"text-align: right;\">\n",
       "      <th></th>\n",
       "      <th>terms</th>\n",
       "      <th>weights</th>\n",
       "    </tr>\n",
       "  </thead>\n",
       "  <tbody>\n",
       "    <tr>\n",
       "      <th>0</th>\n",
       "      <td>aaf</td>\n",
       "      <td>6.300814</td>\n",
       "    </tr>\n",
       "    <tr>\n",
       "      <th>1788</th>\n",
       "      <td>pz</td>\n",
       "      <td>6.300814</td>\n",
       "    </tr>\n",
       "    <tr>\n",
       "      <th>475</th>\n",
       "      <td>crossgrade</td>\n",
       "      <td>6.300814</td>\n",
       "    </tr>\n",
       "    <tr>\n",
       "      <th>472</th>\n",
       "      <td>crm</td>\n",
       "      <td>6.300814</td>\n",
       "    </tr>\n",
       "    <tr>\n",
       "      <th>1754</th>\n",
       "      <td>prosafe</td>\n",
       "      <td>6.300814</td>\n",
       "    </tr>\n",
       "    <tr>\n",
       "      <th>...</th>\n",
       "      <td>...</td>\n",
       "      <td>...</td>\n",
       "    </tr>\n",
       "    <tr>\n",
       "      <th>388</th>\n",
       "      <td>complete</td>\n",
       "      <td>2.968610</td>\n",
       "    </tr>\n",
       "    <tr>\n",
       "      <th>2403</th>\n",
       "      <td>use</td>\n",
       "      <td>2.933518</td>\n",
       "    </tr>\n",
       "    <tr>\n",
       "      <th>803</th>\n",
       "      <td>features</td>\n",
       "      <td>2.916424</td>\n",
       "    </tr>\n",
       "    <tr>\n",
       "      <th>1463</th>\n",
       "      <td>new</td>\n",
       "      <td>2.916424</td>\n",
       "    </tr>\n",
       "    <tr>\n",
       "      <th>2105</th>\n",
       "      <td>software</td>\n",
       "      <td>2.440085</td>\n",
       "    </tr>\n",
       "  </tbody>\n",
       "</table>\n",
       "<p>2563 rows × 2 columns</p>\n",
       "</div>"
      ],
      "text/plain": [
       "           terms   weights\n",
       "0            aaf  6.300814\n",
       "1788          pz  6.300814\n",
       "475   crossgrade  6.300814\n",
       "472          crm  6.300814\n",
       "1754     prosafe  6.300814\n",
       "...          ...       ...\n",
       "388     complete  2.968610\n",
       "2403         use  2.933518\n",
       "803     features  2.916424\n",
       "1463         new  2.916424\n",
       "2105    software  2.440085\n",
       "\n",
       "[2563 rows x 2 columns]"
      ]
     },
     "execution_count": 17,
     "metadata": {},
     "output_type": "execute_result"
    }
   ],
   "source": [
    "# TODO: Q6.b - Print the terms and weights for the 5 lowest and 5 highest IDF terms.\n",
    "# TODO: Provide an interpretation of the meaning of these weights.\n",
    "\n",
    "\n",
    "data = tfidf_vec.vocabulary_\n",
    "w_list = [] \n",
    "values = []\n",
    "for key,val in data.items(): \n",
    "    w_list.append(key) \n",
    "    values.append(tfidf_vec.idf_[val])\n",
    "\n",
    "\n",
    "data = {'terms': w_list,\n",
    "        'weights': values\n",
    "        }\n",
    "\n",
    "idf_vals = pd.DataFrame(data)\n",
    "idf_vals = idf_vals.sort_values(by=['weights'],ascending = False)\n",
    "idf_vals\n",
    "# The lower the IDF value of a word, the less unique it is to any particular document."
   ]
  },
  {
   "cell_type": "code",
   "execution_count": 18,
   "metadata": {},
   "outputs": [
    {
     "name": "stdout",
     "output_type": "stream",
     "text": [
      "Top 5\n",
      "           terms   weights\n",
      "0            aaf  6.300814\n",
      "1788          pz  6.300814\n",
      "475   crossgrade  6.300814\n",
      "472          crm  6.300814\n",
      "1754     prosafe  6.300814\n",
      "Bottom 5\n",
      "         terms   weights\n",
      "2105  software  2.440085\n",
      "1463       new  2.916424\n",
      "803   features  2.916424\n",
      "2403       use  2.933518\n",
      "388   complete  2.968610\n"
     ]
    }
   ],
   "source": [
    "print(\"Top 5\")\n",
    "print(idf_vals.iloc[:5])\n",
    "print(\"Bottom 5\")\n",
    "print(idf_vals.iloc[:-6:-1])"
   ]
  },
  {
   "cell_type": "markdown",
   "metadata": {},
   "source": [
    "\n",
    "### 1.3 Cosine Similarity\n",
    "\n",
    "Now we are ready to do text comparisons in a formal way.\n",
    "The metric of string distance we will use is called **cosine similarity**.\n",
    "We will treat each document as a vector in some high dimensional space.\n",
    "Then, to compare two documents we compute the cosine of the angle between their two document vectors.\n",
    "This is easier than it sounds.\n",
    "\n",
    "The first question to answer is how do we represent documents as vectors?\n",
    "The answer is familiar: bag-of-words!\n",
    "We treat each unique token as a dimension, and treat token weights as magnitudes in their respective token dimensions.\n",
    "For example, suppose we use simple counts as weights, and we want to interpret the string \"Hello, world!  Goodbye, world!\" as a vector.\n",
    "Then in the \"hello\" and \"goodbye\" dimensions the vector has value 1, in the \"world\" dimension it has value 2, and it is zero in all other dimensions.\n",
    "\n",
    "Next question is: given two vectors how do we find the cosine of the angle between them?\n",
    "Recall the formula for the dot product of two vectors:\n",
    "\n",
    "$$a \\cdot b = \\| a \\| \\| b \\| \\cos \\theta$$\n",
    "\n",
    "Here $a \\cdot b = \\sum_{i=1}^n a_i b_i$ is the ordinary dot product of two vectors, and $\\|a\\| = \\sqrt{ \\sum_{i=1}^n a_i^2 }$ is the norm of $a$.\n",
    "\n",
    "We can rearrange terms and solve for the cosine to find it is simply the normalized dot product of the vectors.\n",
    "With our vector model, the dot product and norm computations are simple functions of the bag-of-words document representations, so we now have a formal way to compute similarity:\n",
    "\n",
    "$$similarity = \\cos \\theta = \\frac{a \\cdot b}{\\|a\\| \\|b\\|} = \\frac{\\sum_{i=1}^n a_i b_i}{\\sqrt{\\sum_{i=1}^n a_i^2} \\sqrt{\\sum_{i=1}^n b_i^2}}$$\n",
    "\n",
    "Setting aside the algebra, the geometric interpretation is more intuitive.\n",
    "The angle between two document vectors is small if they share many tokens in common, because they are pointing in roughly the same direction.\n",
    "Then, the cosine of the angle will be large.\n",
    "Otherwise, if the angle is large (and they have few words in common), the cosine is small.\n",
    "So the cosine scales proportionally with our intuitive sense of similarity."
   ]
  },
  {
   "cell_type": "markdown",
   "metadata": {},
   "source": [
    "#### Q7 [15 points]\n",
    "\n",
    "Now that we understand cosine similarity, we can use it as a metric to determine the similarity between products in the Google and Amazon datasets.\n",
    "\n",
    "The `all_data_tfidf` matrix contains the concatenated TF-IDF vector values for both the Amazon and Google datasets. \n",
    "\n",
    "Create two new variables `amazon_tfidf` and `google_tfidf` that contain only the TF-IDF vectors for the Amazon and Google data, respectively. You can perform slicing on the first dimension of `all_data_tfidf` to split the data.\n",
    "\n",
    "Once you have `amazon_tfidf` and `google_tfidf`, calculate the pariwise cosine simialrity between the records in the two datasets. The output of this calculation should be a 200x200 matrix (200 rows in Amazon dataset x 200 rows in Google dataset). Note the formula for cosine similarity above. Store your result in a variable called `cosine_siml`.\n",
    "\n",
    "**Note:** As mentioned previously, the vectors in `all_data_tfidf` are already L2 normalized, meaning $\\| a \\| \\| b \\| = 1$"
   ]
  },
  {
   "cell_type": "code",
   "execution_count": 19,
   "metadata": {},
   "outputs": [
    {
     "data": {
      "text/plain": [
       "<200x200 sparse matrix of type '<class 'numpy.float64'>'\n",
       "\twith 16069 stored elements in Compressed Sparse Row format>"
      ]
     },
     "execution_count": 19,
     "metadata": {},
     "output_type": "execute_result"
    }
   ],
   "source": [
    "# TODO: Q7\n",
    "amazon_tfidf = all_data_tfidf[:200]\n",
    "google_tfidf = all_data_tfidf[200:]\n",
    "\n",
    "cosine_siml = np.dot(amazon_tfidf, google_tfidf.T)\n",
    "cosine_siml\n"
   ]
  },
  {
   "cell_type": "markdown",
   "metadata": {},
   "source": [
    "#### Q8 [5 points]\n",
    "Plot a heatmap of the cosine similarity matrix. Give the chart a title and axes labes, but you do not need to label the rows/columns for indivdual records (it would be very messy). Include a colorbar to show the meaning of the color scale.\n",
    "\n",
    "**Hint:** Pyplot's `imshow` function is great for visualizing 2D matrices."
   ]
  },
  {
   "cell_type": "code",
   "execution_count": 20,
   "metadata": {},
   "outputs": [
    {
     "data": {
      "image/png": "[encoded data removed]",
      "text/plain": [
       "<Figure size 1440x720 with 2 Axes>"
      ]
     },
     "metadata": {
      "needs_background": "light"
     },
     "output_type": "display_data"
    }
   ],
   "source": [
    "# TODO: Plot the heatmap here.\n",
    "import seaborn as sn\n",
    "import pandas as pd\n",
    "import matplotlib.pyplot as plt\n",
    "\n",
    "\n",
    "\n",
    "\n",
    "plt.figure(figsize=(20,10)) \n",
    "plt.title('Heat map',)\n",
    "plt.xlabel('google')\n",
    "plt.ylabel('amazon')\n",
    "sn.heatmap(cosine_siml.todense(), ) # font size\n",
    "\n",
    "plt.show()"
   ]
  },
  {
   "cell_type": "markdown",
   "metadata": {},
   "source": [
    "#### Q9 [10 points]\n",
    "Now we can finally do some entity resolution! Use the `cosine_siml` matrix to build a dictionary mapping `(Amazon Id, Google Id)` tuples to their cosine similarity scores between 0 and 1.\n",
    "\n",
    "\n",
    "What is the similarity between Amazon record `b000o24l3q` and Google record `17242822440574356561` ?"
   ]
  },
  {
   "cell_type": "code",
   "execution_count": 21,
   "metadata": {},
   "outputs": [
    {
     "name": "stdout",
     "output_type": "stream",
     "text": [
      "Requested similarity is 0.011360947368056326.\n"
     ]
    }
   ],
   "source": [
    "# TODO Compute similarities\n",
    "\n",
    "similarities = {}\n",
    "matrix =cosine_siml.todense()\n",
    "matrix = np.array(matrix)\n",
    "\n",
    "\n",
    "amazon_id = amazon_small.index\n",
    "amazon_range = range(0,200)\n",
    "\n",
    "google_id = google_small.index\n",
    "google_range = range(0,200)\n",
    "\n",
    "\n",
    "for row in amazon_range:\n",
    "    dist1  = amazon_id[row]\n",
    "    for cell in google_range:\n",
    "        dist2 = google_id[cell]\n",
    "        dist = (dist1,dist2)\n",
    "        similarities[dist] = matrix[row][cell]\n",
    "        \n",
    "\n",
    "print('Requested similarity is %s.' % similarities[('b000o24l3q','17242822440574356561')])"
   ]
  },
  {
   "cell_type": "markdown",
   "metadata": {},
   "source": [
    "#### Q10 [5 points]\n",
    "\n",
    "Use the \"gold standard\" data (loaded from the supplied file `Amazon_Google_perfectMapping.csv`) to answer the following questions. How many true duplicate pairs are there in the small data sets? What is the average similarity score for true duplicates?  What about for non-duplicates?  Based on this, is cosine similarity doing a good job, qualitatively speaking, of identifying duplicates?  Why or why not?"
   ]
  },
  {
   "cell_type": "code",
   "execution_count": 22,
   "metadata": {},
   "outputs": [
    {
     "name": "stdout",
     "output_type": "stream",
     "text": [
      "[('b0000azvvs', '5310740648374994867'), ('b000lptgc2', '17624778694912125664'), ('b000p9cr66', '17724977097925207764'), ('b0009yx9by', '5238862557893361196'), ('b000bx0006', '17214545032473425136')]\n",
      "[('b00005atxo', '6990565128537638388'), ('b00006akwh', '18389952572089446651'), ('b000fbgate', '17242822440574356561'), ('b000qfqa1w', '6054765746746674194'), ('b000g80lqo', '18413484739795948632')]\n",
      "There are 146 true duplicates.\n",
      "The average similarity of true duplicates is 0.510057.\n",
      "And for non duplicates, it is 0.013729.\n"
     ]
    }
   ],
   "source": [
    "# TODO: Q10\n",
    "#loading the dataset\n",
    "Amazon_Google_perfectMapping = pd.read_csv(\"Amazon_Google_perfectMapping.csv\")\n",
    "#removing the id from idGoogleBase Colum\n",
    "Amazon_Google_perfectMapping['idGoogleBase'] = Amazon_Google_perfectMapping['idGoogleBase'].apply(lambda x: x.split('/')[-1])\n",
    "Amazon_Google_perfectMapping = {(x,y) for x,y in zip(list(Amazon_Google_perfectMapping['idAmazon']),list(Amazon_Google_perfectMapping['idGoogleBase']))}\n",
    "similarities1 = set(similarities.keys())\n",
    "print(list(Amazon_Google_perfectMapping)[:5])\n",
    "print(list(similarities1)[:5])\n",
    "\n",
    "true_dups = similarities1.intersection(Amazon_Google_perfectMapping)\n",
    "avg_sim_dups = sum([similarities[i] for i in true_dups]) / len(true_dups)\n",
    "avg_sim_non = sum([similarities[i] for i in similarities1 - Amazon_Google_perfectMapping]) / len(similarities1 - Amazon_Google_perfectMapping)\n",
    "\n",
    "\n",
    "print(\"There are %d true duplicates.\"% len(true_dups))\n",
    "print(\"The average similarity of true duplicates is %f.\"% avg_sim_dups) \n",
    "print(\"And for non duplicates, it is %f.\"% avg_sim_non) \n",
    "# Its doing an ok job identifying the duplicates. The Average is only about 51% i think cosine sililarty is not doing a very good job. I am guessing it has something to\n",
    "# with the weights but not sure."
   ]
  },
  {
   "cell_type": "markdown",
   "metadata": {},
   "source": [
    "## Part 2: NLP\n",
    "\n",
    "Here we will use part of a dataset taken from Kaggle to train a sentiment analysis classifier, which is capable of predicting the positive or negative sentiment associated with a phrase. \n",
    "\n",
    "These data are snippets of movie reviews, which are labeled with overall sentiment of the snippet. The goal is to create a classifier which can predict the sentiment of a text sentence."
   ]
  },
  {
   "cell_type": "code",
   "execution_count": 36,
   "metadata": {},
   "outputs": [],
   "source": [
    "from nltk.sentiment import SentimentAnalyzer\n",
    "from nltk.classify import NaiveBayesClassifier\n",
    "from nltk.sentiment.util import mark_negation,extract_unigram_feats"
   ]
  },
  {
   "cell_type": "markdown",
   "metadata": {},
   "source": [
    "#### Q11 [5 points]\n",
    "\n",
    "**Q11.a -** Read the `train_reviews.csv` and `test_reviews.csv` files in the Data.zip you downloaded from Canvas into two Pandas `Dataframe` objects called `train_df` and `test_df`. Print the first few rows of `train_df` using the `head` function (i.e. `train_df.head()`).\n",
    "\n",
    "The sentiment labels are:\n",
    "\n",
    "0. negative\n",
    "1. somewhat negative\n",
    "\n",
    "2. neutral\n",
    "\n",
    "3. somewhat positive\n",
    "\n",
    "4. positive\n",
    "\n",
    "**Q11.b -** Plot a histogram of each value in the `Sentiment` column for the training and testing datasets. Which labels are the most common? Make sure to give each chart a title and label the axes. "
   ]
  },
  {
   "cell_type": "code",
   "execution_count": 37,
   "metadata": {},
   "outputs": [],
   "source": [
    "# TODO Q1.a\n",
    "train_df = pd.read_csv(\"train_reviews.csv\")\n",
    "test_df = pd.read_csv(\"test_reviews.csv\")"
   ]
  },
  {
   "cell_type": "code",
   "execution_count": 43,
   "metadata": {},
   "outputs": [
    {
     "data": {
      "image/png": "[encoded data removed]",
      "text/plain": [
       "<Figure size 720x720 with 1 Axes>"
      ]
     },
     "metadata": {
      "needs_background": "light"
     },
     "output_type": "display_data"
    },
    {
     "data": {
      "image/png": "[encoded data removed]",
      "text/plain": [
       "<Figure size 720x720 with 1 Axes>"
      ]
     },
     "metadata": {
      "needs_background": "light"
     },
     "output_type": "display_data"
    }
   ],
   "source": [
    "# Plot a histogram of the sentiment values for all sentences. \n",
    "train_1 = train_df['Sentiment']\n",
    "test_1 = test_df['Sentiment']\n",
    "\n",
    "\n",
    "\n",
    "\n",
    "plt.figure(figsize=(10,10)) \n",
    "plt.hist(train_1,5)\n",
    "plt.title('train sentiment',)\n",
    "plt.xlabel('sentiment labels')\n",
    "plt.ylabel('total count')\n",
    "plt.show()\n",
    "\n",
    "\n",
    "\n",
    "plt.figure(figsize=(10,10)) \n",
    "plt.hist(test_1,5)\n",
    "plt.title('test sentiment',)\n",
    "plt.xlabel('sentiment labels')\n",
    "plt.ylabel('total count')\n",
    "plt.show()\n",
    "# train set has the most count in the value 2\n",
    "# test set has most count in the value 2 as well"
   ]
  },
  {
   "cell_type": "markdown",
   "metadata": {},
   "source": [
    "One important part of sentiment analysis is recognizing when words are negated. For example, take the sentence:\n",
    "\"I enjoy running\""
   ]
  },
  {
   "cell_type": "code",
   "execution_count": 39,
   "metadata": {},
   "outputs": [
    {
     "name": "stdout",
     "output_type": "stream",
     "text": [
      "['enjoy', 'running']\n",
      "['enjoy', 'running']\n"
     ]
    }
   ],
   "source": [
    "my_sent = \"I enjoy running\"\n",
    "my_opposite_sent = \"I do not enjoy running\"\n",
    "print(tokenize(my_sent))\n",
    "print(tokenize(my_opposite_sent))"
   ]
  },
  {
   "cell_type": "markdown",
   "metadata": {},
   "source": [
    "If we tokenize these sentences with our `tokenize` function, these sentences become indistinguishable, since we lose the context of the \"not\" modifier. These sentences have identical tokenized representations even though their meanings are opposite.\n",
    "\n",
    "We need a way to note when a word appears in a *negated* context, i.e. (**not** something *vs.* something). NLTK provides us a handy function called `mark_negation` that does exactly this.\n",
    "\n",
    "Let's try it out on our sentences above, using the `simple_tokenize` function instead of `tokenize` so that we don't drop the \"don't\"."
   ]
  },
  {
   "cell_type": "code",
   "execution_count": 40,
   "metadata": {},
   "outputs": [
    {
     "name": "stdout",
     "output_type": "stream",
     "text": [
      "['i', 'enjoy', 'running']\n",
      "['i', 'do', 'not', 'enjoy_NEG', 'running_NEG']\n"
     ]
    }
   ],
   "source": [
    "print(mark_negation(simple_tokenize(my_sent)))\n",
    "print(mark_negation(simple_tokenize(my_opposite_sent)))"
   ]
  },
  {
   "cell_type": "markdown",
   "metadata": {},
   "source": [
    "The `mark_negation` function correctly tagged the words \"enjoy\" and \"running\" with a `_NEG` suffix, to indicate that they are used in a negative context."
   ]
  },
  {
   "cell_type": "markdown",
   "metadata": {},
   "source": [
    "#### Q12 [5 points]\n",
    "In both `train_df` and `test_df` the `Phrase` column holds a string which we need to tokenize. Thankfully, you have already created two tokenize functions in the previous part of this assignment! For this we do *not* want to remove stop words, so use `simple_tokenize`. \n",
    "\n",
    "\n",
    "**Q12.1 -** Create a new column called `tokens` in both `train_df` and `test_df` which contain the tokenized representation (i.e. a list of strings) for the `Phrase` column. Use the `mark_negation` function to ensure that negations are tagged correctly.\n",
    "\n",
    "**Q12.2 -** Create a set called `unique_words` containing the unique words in the `tokens` column from both `train_df` and `test_df` (i.e. create a single set)."
   ]
  },
  {
   "cell_type": "code",
   "execution_count": 42,
   "metadata": {},
   "outputs": [
    {
     "name": "stdout",
     "output_type": "stream",
     "text": [
      "     PhraseId  SentenceId                                             Phrase  \\\n",
      "0           1           1  A series of escapades demonstrating the adage ...   \n",
      "1           2           1  A series of escapades demonstrating the adage ...   \n",
      "2           3           1                                           A series   \n",
      "3           4           1                                                  A   \n",
      "4           5           1                                             series   \n",
      "..        ...         ...                                                ...   \n",
      "531       532          19                                 The Wild Wild West   \n",
      "532       533          19                                     Wild Wild West   \n",
      "533       534          19                                               Wild   \n",
      "534       535          19                                          Wild West   \n",
      "535       536          19                                               West   \n",
      "\n",
      "     Sentiment                                             tokens  \n",
      "0            1  [a, series, of, escapades, demonstrating, the,...  \n",
      "1            2  [a, series, of, escapades, demonstrating, the,...  \n",
      "2            2                                        [a, series]  \n",
      "3            2                                                [a]  \n",
      "4            2                                           [series]  \n",
      "..         ...                                                ...  \n",
      "531          3                            [the, wild, wild, west]  \n",
      "532          2                                 [wild, wild, west]  \n",
      "533          3                                             [wild]  \n",
      "534          2                                       [wild, west]  \n",
      "535          2                                             [west]  \n",
      "\n",
      "[536 rows x 5 columns]\n",
      "     PhraseId  SentenceId                             Phrase  Sentiment  \\\n",
      "0         552          21  Best indie of the year , so far .          4   \n",
      "1         553          21                               Best          4   \n",
      "2         554          21       indie of the year , so far .          3   \n",
      "3         555          21         indie of the year , so far          4   \n",
      "4         556          21                indie of the year ,          3   \n",
      "..        ...         ...                                ...        ...   \n",
      "531      1083          39                         unexpected          2   \n",
      "532      1084          39                         directions          2   \n",
      "533      1085          39                     keeps on going          2   \n",
      "534      1086          39                              keeps          2   \n",
      "535      1087          39                           on going          2   \n",
      "\n",
      "                                    tokens  \n",
      "0    [best, indie, of, the, year, so, far]  \n",
      "1                                   [best]  \n",
      "2          [indie, of, the, year, so, far]  \n",
      "3          [indie, of, the, year, so, far]  \n",
      "4                   [indie, of, the, year]  \n",
      "..                                     ...  \n",
      "531                           [unexpected]  \n",
      "532                           [directions]  \n",
      "533                     [keeps, on, going]  \n",
      "534                                [keeps]  \n",
      "535                            [on, going]  \n",
      "\n",
      "[536 rows x 5 columns]\n"
     ]
    }
   ],
   "source": [
    "# TODO: Q12.1\n",
    "\n",
    "\n",
    "\n",
    "train_df[\"tokens\"] = train_df['Phrase'].apply(lambda x: mark_negation(simple_tokenize(x)))\n",
    "test_df[\"tokens\"] = test_df['Phrase'].apply(lambda x: mark_negation(simple_tokenize(x)))\n",
    "print(train_df)\n",
    "print(test_df)"
   ]
  },
  {
   "cell_type": "markdown",
   "metadata": {},
   "source": [
    "Verify that your `tokens` column looks correct. (i.e., it should be a list of lowercase strings corresponding to the words in `Sentiment`)"
   ]
  },
  {
   "cell_type": "code",
   "execution_count": 290,
   "metadata": {},
   "outputs": [],
   "source": [
    "# TODO: Q12.2\n",
    "# Add all of the unique words in train_df\n",
    "unique_words = set()\n",
    "for token_group in train_df.tokens:\n",
    "    for i in token_group:\n",
    "        unique_words.add(i)\n",
    "# TODO: Do the same for test_df.\n",
    "for token_group in test_df.tokens:\n",
    "    for i in token_group:\n",
    "        unique_words.add(i)"
   ]
  },
  {
   "cell_type": "code",
   "execution_count": 291,
   "metadata": {},
   "outputs": [],
   "source": [
    "# Should have 414 unique words\n",
    "assert(len(unique_words) == 414)"
   ]
  },
  {
   "cell_type": "markdown",
   "metadata": {},
   "source": [
    "Now we can create a `SentimentAnalyzer`, which is an NLTK helper class for building a sentiment analyzer."
   ]
  },
  {
   "cell_type": "code",
   "execution_count": 292,
   "metadata": {},
   "outputs": [],
   "source": [
    "analyzer = SentimentAnalyzer()"
   ]
  },
  {
   "cell_type": "markdown",
   "metadata": {},
   "source": [
    "#### Q13 [5 points]\n",
    "The sentiment analyzer that we will train expects to recieve each phrase as a tuple in the form of:\n",
    "`([\"a\",\"series\",\"of\",\"tokens\"],label)`\n",
    "\n",
    "Build two variables `train_set` and `test_set` containing lists of tuples of the form shown above by combining the `tokens` and `Sentiment` columns from each dataframe.\n",
    "\n",
    "`train_set`  and `test_set` should both look like a list of tuples containing the token list and label:\n",
    "```\n",
    "[\n",
    "...\n",
    "(['of',\n",
    "  'escapades',\n",
    "  'demonstrating',\n",
    "  'the',\n",
    "  'adage',\n",
    "  'that',\n",
    "  'what',\n",
    "  'is',\n",
    "  'good',\n",
    "  'for',\n",
    "  'the',\n",
    "  'goose'],2),\n",
    "...\n",
    "]\n",
    "```"
   ]
  },
  {
   "cell_type": "code",
   "execution_count": 298,
   "metadata": {},
   "outputs": [],
   "source": [
    "#TODO Q13\n",
    "train_set = [(toks,lbl) for toks,lbl in zip(train_df.tokens,train_df.Sentiment)]\n",
    "test_set = [(toks,lbl) for toks,lbl in zip(test_df.tokens,test_df.Sentiment)]"
   ]
  },
  {
   "cell_type": "markdown",
   "metadata": {},
   "source": [
    "We can now use the `add_feature_extractor` function to create a feature extractor for our dataset. In this case, we will use `extract_unigram_feats`, which will provide a boolean indicator of whether each word in `unique_words` exists in the current sentence"
   ]
  },
  {
   "cell_type": "code",
   "execution_count": 299,
   "metadata": {},
   "outputs": [],
   "source": [
    "analyzer.add_feat_extractor(extract_unigram_feats,unigrams=unique_words)"
   ]
  },
  {
   "cell_type": "markdown",
   "metadata": {},
   "source": [
    "Now we can create two sets of features `train_features` and `test_features` for our training and testing data respectively."
   ]
  },
  {
   "cell_type": "code",
   "execution_count": 300,
   "metadata": {},
   "outputs": [],
   "source": [
    "train_features = analyzer.apply_features(train_set)\n",
    "test_features = analyzer.apply_features(test_set)"
   ]
  },
  {
   "cell_type": "markdown",
   "metadata": {},
   "source": [
    "We will learn more about using classifiers such as Naive Bayes in the next assignment. For now, let's just use the NaiveBayesClassifier to perform sentiment analysis.\n",
    "\n",
    "This cell may take a few minutes to run while it is training the classifier."
   ]
  },
  {
   "cell_type": "code",
   "execution_count": 301,
   "metadata": {},
   "outputs": [
    {
     "name": "stdout",
     "output_type": "stream",
     "text": [
      "Training classifier\n"
     ]
    }
   ],
   "source": [
    "nb_trainer = NaiveBayesClassifier.train\n",
    "nb_classifier = analyzer.train(nb_trainer,train_features)"
   ]
  },
  {
   "cell_type": "code",
   "execution_count": 302,
   "metadata": {},
   "outputs": [
    {
     "name": "stdout",
     "output_type": "stream",
     "text": [
      "Evaluating NaiveBayesClassifier results...\n"
     ]
    }
   ],
   "source": [
    "analyze_dict = analyzer.evaluate(test_features)"
   ]
  },
  {
   "cell_type": "code",
   "execution_count": 303,
   "metadata": {},
   "outputs": [
    {
     "data": {
      "text/html": [
       "<style  type=\"text/css\" >\n",
       "#T_25453494_22fe_11eb_8bdd_acde48001122row0_col0{\n",
       "            background-color:  #329b51;\n",
       "            color:  #000000;\n",
       "        }#T_25453494_22fe_11eb_8bdd_acde48001122row1_col0{\n",
       "            background-color:  #eaf7e6;\n",
       "            color:  #000000;\n",
       "        }#T_25453494_22fe_11eb_8bdd_acde48001122row2_col0{\n",
       "            background-color:  #dff3da;\n",
       "            color:  #000000;\n",
       "        }#T_25453494_22fe_11eb_8bdd_acde48001122row3_col0{\n",
       "            background-color:  #004d1f;\n",
       "            color:  #f1f1f1;\n",
       "        }#T_25453494_22fe_11eb_8bdd_acde48001122row4_col0{\n",
       "            background-color:  #bee5b8;\n",
       "            color:  #000000;\n",
       "        }#T_25453494_22fe_11eb_8bdd_acde48001122row5_col0{\n",
       "            background-color:  #f3faf0;\n",
       "            color:  #000000;\n",
       "        }#T_25453494_22fe_11eb_8bdd_acde48001122row6_col0{\n",
       "            background-color:  #f2faef;\n",
       "            color:  #000000;\n",
       "        }#T_25453494_22fe_11eb_8bdd_acde48001122row7_col0{\n",
       "            background-color:  #339c52;\n",
       "            color:  #000000;\n",
       "        }#T_25453494_22fe_11eb_8bdd_acde48001122row8_col0{\n",
       "            background-color:  #00441b;\n",
       "            color:  #f1f1f1;\n",
       "        }#T_25453494_22fe_11eb_8bdd_acde48001122row9_col0{\n",
       "            background-color:  #8dd08a;\n",
       "            color:  #000000;\n",
       "        }#T_25453494_22fe_11eb_8bdd_acde48001122row10_col0{\n",
       "            background-color:  #f7fcf5;\n",
       "            color:  #000000;\n",
       "        }#T_25453494_22fe_11eb_8bdd_acde48001122row11_col0{\n",
       "            background-color:  #76c578;\n",
       "            color:  #000000;\n",
       "        }#T_25453494_22fe_11eb_8bdd_acde48001122row12_col0{\n",
       "            background-color:  #edf8e9;\n",
       "            color:  #000000;\n",
       "        }#T_25453494_22fe_11eb_8bdd_acde48001122row13_col0{\n",
       "            background-color:  #005622;\n",
       "            color:  #f1f1f1;\n",
       "        }#T_25453494_22fe_11eb_8bdd_acde48001122row14_col0{\n",
       "            background-color:  #d2edcc;\n",
       "            color:  #000000;\n",
       "        }#T_25453494_22fe_11eb_8bdd_acde48001122row15_col0{\n",
       "            background-color:  #c4e8bd;\n",
       "            color:  #000000;\n",
       "        }</style><table id=\"T_25453494_22fe_11eb_8bdd_acde48001122\" ><thead>    <tr>        <th class=\"blank\" ></th>        <th class=\"blank level0\" ></th>        <th class=\"col_heading level0 col0\" >Value</th>    </tr>    <tr>        <th class=\"index_name level0\" >Metric</th>        <th class=\"index_name level1\" >Class</th>        <th class=\"blank\" ></th>    </tr></thead><tbody>\n",
       "                <tr>\n",
       "                        <th id=\"T_25453494_22fe_11eb_8bdd_acde48001122level0_row0\" class=\"row_heading level0 row0\" >Accuracy</th>\n",
       "                        <th id=\"T_25453494_22fe_11eb_8bdd_acde48001122level1_row0\" class=\"row_heading level1 row0\" >nan</th>\n",
       "                        <td id=\"T_25453494_22fe_11eb_8bdd_acde48001122row0_col0\" class=\"data row0 col0\" >0.542910</td>\n",
       "            </tr>\n",
       "            <tr>\n",
       "                        <th id=\"T_25453494_22fe_11eb_8bdd_acde48001122level0_row1\" class=\"row_heading level0 row1\" rowspan=5>F-measure</th>\n",
       "                        <th id=\"T_25453494_22fe_11eb_8bdd_acde48001122level1_row1\" class=\"row_heading level1 row1\" >0</th>\n",
       "                        <td id=\"T_25453494_22fe_11eb_8bdd_acde48001122row1_col0\" class=\"data row1 col0\" >0.097561</td>\n",
       "            </tr>\n",
       "            <tr>\n",
       "                                <th id=\"T_25453494_22fe_11eb_8bdd_acde48001122level1_row2\" class=\"row_heading level1 row2\" >1</th>\n",
       "                        <td id=\"T_25453494_22fe_11eb_8bdd_acde48001122row2_col0\" class=\"data row2 col0\" >0.141414</td>\n",
       "            </tr>\n",
       "            <tr>\n",
       "                                <th id=\"T_25453494_22fe_11eb_8bdd_acde48001122level1_row3\" class=\"row_heading level1 row3\" >2</th>\n",
       "                        <td id=\"T_25453494_22fe_11eb_8bdd_acde48001122row3_col0\" class=\"data row3 col0\" >0.758226</td>\n",
       "            </tr>\n",
       "            <tr>\n",
       "                                <th id=\"T_25453494_22fe_11eb_8bdd_acde48001122level1_row4\" class=\"row_heading level1 row4\" >3</th>\n",
       "                        <td id=\"T_25453494_22fe_11eb_8bdd_acde48001122row4_col0\" class=\"data row4 col0\" >0.238532</td>\n",
       "            </tr>\n",
       "            <tr>\n",
       "                                <th id=\"T_25453494_22fe_11eb_8bdd_acde48001122level1_row5\" class=\"row_heading level1 row5\" >4</th>\n",
       "                        <td id=\"T_25453494_22fe_11eb_8bdd_acde48001122row5_col0\" class=\"data row5 col0\" >0.048193</td>\n",
       "            </tr>\n",
       "            <tr>\n",
       "                        <th id=\"T_25453494_22fe_11eb_8bdd_acde48001122level0_row6\" class=\"row_heading level0 row6\" rowspan=5>Precision</th>\n",
       "                        <th id=\"T_25453494_22fe_11eb_8bdd_acde48001122level1_row6\" class=\"row_heading level1 row6\" >0</th>\n",
       "                        <td id=\"T_25453494_22fe_11eb_8bdd_acde48001122row6_col0\" class=\"data row6 col0\" >0.055556</td>\n",
       "            </tr>\n",
       "            <tr>\n",
       "                                <th id=\"T_25453494_22fe_11eb_8bdd_acde48001122level1_row7\" class=\"row_heading level1 row7\" >1</th>\n",
       "                        <td id=\"T_25453494_22fe_11eb_8bdd_acde48001122row7_col0\" class=\"data row7 col0\" >0.538462</td>\n",
       "            </tr>\n",
       "            <tr>\n",
       "                                <th id=\"T_25453494_22fe_11eb_8bdd_acde48001122level1_row8\" class=\"row_heading level1 row8\" >2</th>\n",
       "                        <td id=\"T_25453494_22fe_11eb_8bdd_acde48001122row8_col0\" class=\"data row8 col0\" >0.779412</td>\n",
       "            </tr>\n",
       "            <tr>\n",
       "                                <th id=\"T_25453494_22fe_11eb_8bdd_acde48001122level1_row9\" class=\"row_heading level1 row9\" >3</th>\n",
       "                        <td id=\"T_25453494_22fe_11eb_8bdd_acde48001122row9_col0\" class=\"data row9 col0\" >0.351351</td>\n",
       "            </tr>\n",
       "            <tr>\n",
       "                                <th id=\"T_25453494_22fe_11eb_8bdd_acde48001122level1_row10\" class=\"row_heading level1 row10\" >4</th>\n",
       "                        <td id=\"T_25453494_22fe_11eb_8bdd_acde48001122row10_col0\" class=\"data row10 col0\" >0.027027</td>\n",
       "            </tr>\n",
       "            <tr>\n",
       "                        <th id=\"T_25453494_22fe_11eb_8bdd_acde48001122level0_row11\" class=\"row_heading level0 row11\" rowspan=5>Recall</th>\n",
       "                        <th id=\"T_25453494_22fe_11eb_8bdd_acde48001122level1_row11\" class=\"row_heading level1 row11\" >0</th>\n",
       "                        <td id=\"T_25453494_22fe_11eb_8bdd_acde48001122row11_col0\" class=\"data row11 col0\" >0.400000</td>\n",
       "            </tr>\n",
       "            <tr>\n",
       "                                <th id=\"T_25453494_22fe_11eb_8bdd_acde48001122level1_row12\" class=\"row_heading level1 row12\" >1</th>\n",
       "                        <td id=\"T_25453494_22fe_11eb_8bdd_acde48001122row12_col0\" class=\"data row12 col0\" >0.081395</td>\n",
       "            </tr>\n",
       "            <tr>\n",
       "                                <th id=\"T_25453494_22fe_11eb_8bdd_acde48001122level1_row13\" class=\"row_heading level1 row13\" >2</th>\n",
       "                        <td id=\"T_25453494_22fe_11eb_8bdd_acde48001122row13_col0\" class=\"data row13 col0\" >0.738162</td>\n",
       "            </tr>\n",
       "            <tr>\n",
       "                                <th id=\"T_25453494_22fe_11eb_8bdd_acde48001122level1_row14\" class=\"row_heading level1 row14\" >3</th>\n",
       "                        <td id=\"T_25453494_22fe_11eb_8bdd_acde48001122row14_col0\" class=\"data row14 col0\" >0.180556</td>\n",
       "            </tr>\n",
       "            <tr>\n",
       "                                <th id=\"T_25453494_22fe_11eb_8bdd_acde48001122level1_row15\" class=\"row_heading level1 row15\" >4</th>\n",
       "                        <td id=\"T_25453494_22fe_11eb_8bdd_acde48001122row15_col0\" class=\"data row15 col0\" >0.222222</td>\n",
       "            </tr>\n",
       "    </tbody></table>"
      ],
      "text/plain": [
       "<pandas.io.formats.style.Styler at 0x7f8fac218a90>"
      ]
     },
     "execution_count": 303,
     "metadata": {},
     "output_type": "execute_result"
    }
   ],
   "source": [
    "from seaborn import color_palette\n",
    "formatted_vals = {re.match(\"([a-zA-Z\\-]+)(?:\\s+\\[(\\d+)\\])?\",key).groups():[val] for key,val in analyze_dict.items()}\n",
    "pretty_df = pd.DataFrame(formatted_vals).transpose().sort_index()\n",
    "pretty_df.columns = [\"Value\"]\n",
    "pretty_df.index.set_names([\"Metric\",\"Class\"],inplace=True)\n",
    "pretty_df.style.background_gradient(cmap=\"Greens\")"
   ]
  },
  {
   "cell_type": "markdown",
   "metadata": {},
   "source": [
    "#### Q14 [5 points]\n",
    "Now that we have trained our classifier, we can evaluate it on our testing set.\n",
    "\n",
    "Provide an interpretation of the class results as printed above. Does the classifier do well in general?\n",
    "Which classes does the classifier have an easier time predicting? \n",
    "\n",
    "The class labels are:\n",
    "0. negative\n",
    "1. somewhat negative\n",
    "2. neutral\n",
    "3. somewhat positive\n",
    "4. positive"
   ]
  },
  {
   "cell_type": "code",
   "execution_count": 304,
   "metadata": {},
   "outputs": [],
   "source": [
    "# TODO Q14\n",
    "# In general the classifer didnt perform that good the accuracy is only about 54% but that said the data seems to skewed a lot there\n",
    "# are a lot of sample in the test dataset that contains samples of class 2 so this means the dataset is imbalanced and that is why I\n",
    "# think that the accuracy for class 2 is high because the model is more biased towards class 2. "
   ]
  },
  {
   "cell_type": "markdown",
   "metadata": {},
   "source": [
    "Done! Save and submit your notebook on Canvas!"
   ]
  }
 ],
 "metadata": {
  "kernelspec": {
   "display_name": "Python 3",
   "language": "python",
   "name": "python3"
  },
  "language_info": {
   "codemirror_mode": {
    "name": "ipython",
    "version": 3
   },
   "file_extension": ".py",
   "mimetype": "text/x-python",
   "name": "python",
   "nbconvert_exporter": "python",
   "pygments_lexer": "ipython3",
   "version": "3.8.5"
  }
 },
 "nbformat": 4,
 "nbformat_minor": 4
}
