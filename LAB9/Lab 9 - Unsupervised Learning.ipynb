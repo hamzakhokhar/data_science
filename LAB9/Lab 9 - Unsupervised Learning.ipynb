{
 "cells": [
  {
   "cell_type": "markdown",
   "metadata": {},
   "source": [
    "# CSCI 4580/5580 - Data Science – Fall 2020\n",
    "## Lab 9: Unsupervised Learning\n",
    "\n",
    "#### **Student Full Name**: Hamza Khokhar\n",
    "\n",
    "#### **Student ID**: 109644074"
   ]
  },
  {
   "cell_type": "markdown",
   "metadata": {},
   "source": [
    "### Before you Begin:\n",
    "As with Lab 8, this lab will require using the `tensorflow` deep learning library. In the previous lab, you created a virtual environment called `tf` that contained tensorflow and some dependencies.\n",
    "\n",
    "For this lab, we will also need some new dependencies. Follow the steps below to install the new dependencies to your `tf` conda environment.\n",
    "\n",
    "First, activate your `tf` environment using `conda activate tf`.\n",
    "\n",
    "![Activate conda tf environment](imgs/activate_tf.png)\n",
    "\n",
    "This lab requires two new dependencies: \n",
    "* `seaborn` - A plotting library built on `matplotlib`.\n",
    "* `scikit-learn` - The scikit-learn packages. We have used this package before, but not from the `tf` environment.\n",
    "\n",
    "You can install both dependencies with a single line of code:\n",
    "\n",
    "![install packages](imgs/install_packages.png)\n",
    "\n",
    "Finally, run `jupyter notebook` or `jupyter lab` to proceed with the assignment.\n",
    "\n",
    "![run jupyter](imgs/run_jupyter.png)"
   ]
  },
  {
   "cell_type": "markdown",
   "metadata": {},
   "source": [
    "### Deliverables\n",
    "Complete all the exercises below and turn in a write up in the form of a Jupyuter notebook, that is, an **.ipynb file**.\n",
    "The write up should include your code, answers to exercise questions, and plots of results.\n",
    "Submit the assignment on Canvas under \"Lab 9\", with this file (after your edits) as an attachment. \n",
    "\n",
    "Notes:\n",
    "\n",
    "1. You have to use this notebook and fill in answers inline. \n",
    "\n",
    "2. Please do not add or remove any cells (you can add cells while doing the homework but remove them before submission).\n",
    "\n",
    "3. In this notebook, we provide code templates for many of the exercises. They are intended to help with code re-use, since the exercises build on each other. Don't forget to include answers to questions that ask for natural language responses, i.e., in English, not code!\n",
    "\n",
    "4. We will test your code automatically, so in your submitted notebook function names must conform with the names requested by the questions. Also you should make sure we can execute your notebook by running \"Cell > Run all\"."
   ]
  },
  {
   "cell_type": "markdown",
   "metadata": {},
   "source": [
    "### Need Help? \n",
    "In case you need help with this assignment, please ask your questions on the designated channel for Lab 9 on Microsoft Teams. This way, you may receive assistance from the TA’s or your classmates (<b>DO NOT share your solution</b>) [Recommended]. \n",
    "<br/>If you need to include your solution in your question, please create a new chat with <b>all the TA’s</b>. In the new chat, add all the TA’s rather than sending your question to the TA’s separately."
   ]
  },
  {
   "cell_type": "markdown",
   "metadata": {},
   "source": [
    "### Collaboration\n",
    "This assignment is to be done individually. Everyone should be getting a hands on experience in this course. You are free to discuss course material with fellow students, and we encourage you to use resources on the Internet to aid your understanding, but the work you turn in, including all code and answers, must be your own work."
   ]
  },
  {
   "cell_type": "markdown",
   "metadata": {},
   "source": [
    "Let's Get Started!\n",
    "===\n",
    "\n",
    "## Overview\n",
    "Unsupervised learning is the process of learning about the structure and relationships between samples in a dataset without the use of any ground truth labels. Unlike supervised learning models which require knowledge of the class structure of the data, unsupervised learning models are capable of learning directly from the data itself, without any class labels.\n",
    "\n",
    "One of the most common methods for unsupervised learning is called \"clustering\". Clustering is the process of parititoning a dataset into groups. Samples within each group or \"cluster\" are similar to each other in some respect. In a typical \"hard\" clustering, each sample belongs to a single cluster (i.e. Samples can not belong to more than one cluster). However, there are \"soft\" clustering algorithms which can allow for samples to belong to multiple clusters at once."
   ]
  },
  {
   "cell_type": "markdown",
   "metadata": {},
   "source": [
    "## Application\n",
    "In Parts 1 and 2 of this lab, we will apply two well-known clustering algorithms to cluster a dataset containing different types of cars. For each car, the dataset records different measurements such as:\n",
    "* MPG (Miles per-gallon)\n",
    "* Displacemenet\n",
    "* Horsepower\n",
    "* Weight\n",
    "* Acceleration\n",
    "\n",
    "In particular, we will apply the following two *unsupervised* clustering algorithms to this dataset:\n",
    "* K-Means\n",
    "* Agglomerative Clustering\n",
    "\n",
    "and evaluate how well these algorithms are capable of detecting the underlying class structure in the data."
   ]
  },
  {
   "cell_type": "markdown",
   "metadata": {},
   "source": [
    "### Files\n",
    "\n",
    "Data files for this assignment are provided in the `Data` folder inside the ZIP archive.\n",
    "\n",
    "`Data/` includes the following files:\n",
    "\n",
    "* **auto-mpg.data-original**, Data for the \"Auto MPG\" dataset.\n",
    "* **train.fmat.txt**, Data from the MNIST digit dataset.\n",
    "* **ictrain.imat.txt**, Labels for the MNIST digit dataset.\n"
   ]
  },
  {
   "cell_type": "code",
   "execution_count": 1,
   "metadata": {},
   "outputs": [],
   "source": [
    "import pandas as pd\n",
    "import numpy as np\n",
    "from matplotlib import pyplot as plt\n",
    "from sklearn.preprocessing import StandardScaler"
   ]
  },
  {
   "cell_type": "markdown",
   "metadata": {},
   "source": [
    "## Q1 [10 points]\n",
    "Load the file `auto-mpg.data` into a Pandas DataFrame called `data`.\n",
    "\n",
    "This dataset does have a few quirks:\n",
    "\n",
    "First, the dataset is whitespace delimited, you can use `pd.read_csv`'s `delim_whitespace` argument to handle this.\n",
    "\n",
    "Second, the missing values are encoded with a question mark `?`. To handle this, you can use the `na_values` argument from `pd.read_csv`. \n",
    "\n",
    "**NOTE:** Refer [here](https://pandas.pydata.org/pandas-docs/stable/reference/api/pandas.read_csv.html) for the full documentation of `pd.read_csv`."
   ]
  },
  {
   "cell_type": "code",
   "execution_count": 2,
   "metadata": {},
   "outputs": [
    {
     "data": {
      "text/html": [
       "<div>\n",
       "<style scoped>\n",
       "    .dataframe tbody tr th:only-of-type {\n",
       "        vertical-align: middle;\n",
       "    }\n",
       "\n",
       "    .dataframe tbody tr th {\n",
       "        vertical-align: top;\n",
       "    }\n",
       "\n",
       "    .dataframe thead th {\n",
       "        text-align: right;\n",
       "    }\n",
       "</style>\n",
       "<table border=\"1\" class=\"dataframe\">\n",
       "  <thead>\n",
       "    <tr style=\"text-align: right;\">\n",
       "      <th></th>\n",
       "      <th>mpg</th>\n",
       "      <th>cylinders</th>\n",
       "      <th>displacement</th>\n",
       "      <th>horsepower</th>\n",
       "      <th>weight</th>\n",
       "      <th>acceleration</th>\n",
       "      <th>model year</th>\n",
       "      <th>origin</th>\n",
       "      <th>car name</th>\n",
       "    </tr>\n",
       "  </thead>\n",
       "  <tbody>\n",
       "    <tr>\n",
       "      <th>0</th>\n",
       "      <td>18.0</td>\n",
       "      <td>8</td>\n",
       "      <td>307.0</td>\n",
       "      <td>130.0</td>\n",
       "      <td>3504.0</td>\n",
       "      <td>12.0</td>\n",
       "      <td>70</td>\n",
       "      <td>1</td>\n",
       "      <td>chevrolet chevelle malibu</td>\n",
       "    </tr>\n",
       "    <tr>\n",
       "      <th>1</th>\n",
       "      <td>15.0</td>\n",
       "      <td>8</td>\n",
       "      <td>350.0</td>\n",
       "      <td>165.0</td>\n",
       "      <td>3693.0</td>\n",
       "      <td>11.5</td>\n",
       "      <td>70</td>\n",
       "      <td>1</td>\n",
       "      <td>buick skylark 320</td>\n",
       "    </tr>\n",
       "    <tr>\n",
       "      <th>2</th>\n",
       "      <td>18.0</td>\n",
       "      <td>8</td>\n",
       "      <td>318.0</td>\n",
       "      <td>150.0</td>\n",
       "      <td>3436.0</td>\n",
       "      <td>11.0</td>\n",
       "      <td>70</td>\n",
       "      <td>1</td>\n",
       "      <td>plymouth satellite</td>\n",
       "    </tr>\n",
       "    <tr>\n",
       "      <th>3</th>\n",
       "      <td>16.0</td>\n",
       "      <td>8</td>\n",
       "      <td>304.0</td>\n",
       "      <td>150.0</td>\n",
       "      <td>3433.0</td>\n",
       "      <td>12.0</td>\n",
       "      <td>70</td>\n",
       "      <td>1</td>\n",
       "      <td>amc rebel sst</td>\n",
       "    </tr>\n",
       "    <tr>\n",
       "      <th>4</th>\n",
       "      <td>17.0</td>\n",
       "      <td>8</td>\n",
       "      <td>302.0</td>\n",
       "      <td>140.0</td>\n",
       "      <td>3449.0</td>\n",
       "      <td>10.5</td>\n",
       "      <td>70</td>\n",
       "      <td>1</td>\n",
       "      <td>ford torino</td>\n",
       "    </tr>\n",
       "    <tr>\n",
       "      <th>...</th>\n",
       "      <td>...</td>\n",
       "      <td>...</td>\n",
       "      <td>...</td>\n",
       "      <td>...</td>\n",
       "      <td>...</td>\n",
       "      <td>...</td>\n",
       "      <td>...</td>\n",
       "      <td>...</td>\n",
       "      <td>...</td>\n",
       "    </tr>\n",
       "    <tr>\n",
       "      <th>393</th>\n",
       "      <td>27.0</td>\n",
       "      <td>4</td>\n",
       "      <td>140.0</td>\n",
       "      <td>86.0</td>\n",
       "      <td>2790.0</td>\n",
       "      <td>15.6</td>\n",
       "      <td>82</td>\n",
       "      <td>1</td>\n",
       "      <td>ford mustang gl</td>\n",
       "    </tr>\n",
       "    <tr>\n",
       "      <th>394</th>\n",
       "      <td>44.0</td>\n",
       "      <td>4</td>\n",
       "      <td>97.0</td>\n",
       "      <td>52.0</td>\n",
       "      <td>2130.0</td>\n",
       "      <td>24.6</td>\n",
       "      <td>82</td>\n",
       "      <td>2</td>\n",
       "      <td>vw pickup</td>\n",
       "    </tr>\n",
       "    <tr>\n",
       "      <th>395</th>\n",
       "      <td>32.0</td>\n",
       "      <td>4</td>\n",
       "      <td>135.0</td>\n",
       "      <td>84.0</td>\n",
       "      <td>2295.0</td>\n",
       "      <td>11.6</td>\n",
       "      <td>82</td>\n",
       "      <td>1</td>\n",
       "      <td>dodge rampage</td>\n",
       "    </tr>\n",
       "    <tr>\n",
       "      <th>396</th>\n",
       "      <td>28.0</td>\n",
       "      <td>4</td>\n",
       "      <td>120.0</td>\n",
       "      <td>79.0</td>\n",
       "      <td>2625.0</td>\n",
       "      <td>18.6</td>\n",
       "      <td>82</td>\n",
       "      <td>1</td>\n",
       "      <td>ford ranger</td>\n",
       "    </tr>\n",
       "    <tr>\n",
       "      <th>397</th>\n",
       "      <td>31.0</td>\n",
       "      <td>4</td>\n",
       "      <td>119.0</td>\n",
       "      <td>82.0</td>\n",
       "      <td>2720.0</td>\n",
       "      <td>19.4</td>\n",
       "      <td>82</td>\n",
       "      <td>1</td>\n",
       "      <td>chevy s-10</td>\n",
       "    </tr>\n",
       "  </tbody>\n",
       "</table>\n",
       "<p>398 rows × 9 columns</p>\n",
       "</div>"
      ],
      "text/plain": [
       "      mpg  cylinders  displacement  horsepower  weight  acceleration  \\\n",
       "0    18.0          8         307.0       130.0  3504.0          12.0   \n",
       "1    15.0          8         350.0       165.0  3693.0          11.5   \n",
       "2    18.0          8         318.0       150.0  3436.0          11.0   \n",
       "3    16.0          8         304.0       150.0  3433.0          12.0   \n",
       "4    17.0          8         302.0       140.0  3449.0          10.5   \n",
       "..    ...        ...           ...         ...     ...           ...   \n",
       "393  27.0          4         140.0        86.0  2790.0          15.6   \n",
       "394  44.0          4          97.0        52.0  2130.0          24.6   \n",
       "395  32.0          4         135.0        84.0  2295.0          11.6   \n",
       "396  28.0          4         120.0        79.0  2625.0          18.6   \n",
       "397  31.0          4         119.0        82.0  2720.0          19.4   \n",
       "\n",
       "     model year  origin                   car name  \n",
       "0            70       1  chevrolet chevelle malibu  \n",
       "1            70       1          buick skylark 320  \n",
       "2            70       1         plymouth satellite  \n",
       "3            70       1              amc rebel sst  \n",
       "4            70       1                ford torino  \n",
       "..          ...     ...                        ...  \n",
       "393          82       1            ford mustang gl  \n",
       "394          82       2                  vw pickup  \n",
       "395          82       1              dodge rampage  \n",
       "396          82       1                ford ranger  \n",
       "397          82       1                 chevy s-10  \n",
       "\n",
       "[398 rows x 9 columns]"
      ]
     },
     "execution_count": 2,
     "metadata": {},
     "output_type": "execute_result"
    }
   ],
   "source": [
    "columns = [\"mpg\",\"cylinders\",\"displacement\",\"horsepower\",\"weight\",\"acceleration\",\"model year\",\"origin\",\"car name\"]\n",
    "data = pd.read_csv(\"data/auto-mpg.data\",delim_whitespace=True,header = None, na_values = \"?\")\n",
    "data.columns = columns\n",
    "data"
   ]
  },
  {
   "cell_type": "markdown",
   "metadata": {},
   "source": [
    "## Q2 [5 points]\n",
    "\n",
    "For our experiments, we will only use a subset of this data.\n",
    "\n",
    "Subset `data` to use only the following 3 columns:\n",
    "* `horsepower`\n",
    "* `weight` \n",
    "* `acceleration`"
   ]
  },
  {
   "cell_type": "code",
   "execution_count": 3,
   "metadata": {},
   "outputs": [
    {
     "data": {
      "text/html": [
       "<div>\n",
       "<style scoped>\n",
       "    .dataframe tbody tr th:only-of-type {\n",
       "        vertical-align: middle;\n",
       "    }\n",
       "\n",
       "    .dataframe tbody tr th {\n",
       "        vertical-align: top;\n",
       "    }\n",
       "\n",
       "    .dataframe thead th {\n",
       "        text-align: right;\n",
       "    }\n",
       "</style>\n",
       "<table border=\"1\" class=\"dataframe\">\n",
       "  <thead>\n",
       "    <tr style=\"text-align: right;\">\n",
       "      <th></th>\n",
       "      <th>horsepower</th>\n",
       "      <th>weight</th>\n",
       "      <th>acceleration</th>\n",
       "    </tr>\n",
       "  </thead>\n",
       "  <tbody>\n",
       "    <tr>\n",
       "      <th>0</th>\n",
       "      <td>130.0</td>\n",
       "      <td>3504.0</td>\n",
       "      <td>12.0</td>\n",
       "    </tr>\n",
       "    <tr>\n",
       "      <th>1</th>\n",
       "      <td>165.0</td>\n",
       "      <td>3693.0</td>\n",
       "      <td>11.5</td>\n",
       "    </tr>\n",
       "    <tr>\n",
       "      <th>2</th>\n",
       "      <td>150.0</td>\n",
       "      <td>3436.0</td>\n",
       "      <td>11.0</td>\n",
       "    </tr>\n",
       "    <tr>\n",
       "      <th>3</th>\n",
       "      <td>150.0</td>\n",
       "      <td>3433.0</td>\n",
       "      <td>12.0</td>\n",
       "    </tr>\n",
       "    <tr>\n",
       "      <th>4</th>\n",
       "      <td>140.0</td>\n",
       "      <td>3449.0</td>\n",
       "      <td>10.5</td>\n",
       "    </tr>\n",
       "    <tr>\n",
       "      <th>...</th>\n",
       "      <td>...</td>\n",
       "      <td>...</td>\n",
       "      <td>...</td>\n",
       "    </tr>\n",
       "    <tr>\n",
       "      <th>393</th>\n",
       "      <td>86.0</td>\n",
       "      <td>2790.0</td>\n",
       "      <td>15.6</td>\n",
       "    </tr>\n",
       "    <tr>\n",
       "      <th>394</th>\n",
       "      <td>52.0</td>\n",
       "      <td>2130.0</td>\n",
       "      <td>24.6</td>\n",
       "    </tr>\n",
       "    <tr>\n",
       "      <th>395</th>\n",
       "      <td>84.0</td>\n",
       "      <td>2295.0</td>\n",
       "      <td>11.6</td>\n",
       "    </tr>\n",
       "    <tr>\n",
       "      <th>396</th>\n",
       "      <td>79.0</td>\n",
       "      <td>2625.0</td>\n",
       "      <td>18.6</td>\n",
       "    </tr>\n",
       "    <tr>\n",
       "      <th>397</th>\n",
       "      <td>82.0</td>\n",
       "      <td>2720.0</td>\n",
       "      <td>19.4</td>\n",
       "    </tr>\n",
       "  </tbody>\n",
       "</table>\n",
       "<p>398 rows × 3 columns</p>\n",
       "</div>"
      ],
      "text/plain": [
       "     horsepower  weight  acceleration\n",
       "0         130.0  3504.0          12.0\n",
       "1         165.0  3693.0          11.5\n",
       "2         150.0  3436.0          11.0\n",
       "3         150.0  3433.0          12.0\n",
       "4         140.0  3449.0          10.5\n",
       "..          ...     ...           ...\n",
       "393        86.0  2790.0          15.6\n",
       "394        52.0  2130.0          24.6\n",
       "395        84.0  2295.0          11.6\n",
       "396        79.0  2625.0          18.6\n",
       "397        82.0  2720.0          19.4\n",
       "\n",
       "[398 rows x 3 columns]"
      ]
     },
     "execution_count": 3,
     "metadata": {},
     "output_type": "execute_result"
    }
   ],
   "source": [
    "data = data[['horsepower','weight','acceleration']]\n",
    "data"
   ]
  },
  {
   "cell_type": "markdown",
   "metadata": {},
   "source": [
    "## Q3 [5 points]\n",
    "\n",
    "We will not be able to use samples that have missing values for one or more of the columns.\n",
    "\n",
    "Drop **any** rows in `data` which have **one or more** missing values.\n",
    "\n",
    "**HINT:** [Documentation for DataFrame.dropna](https://pandas.pydata.org/pandas-docs/stable/reference/api/pandas.DataFrame.dropna.html)"
   ]
  },
  {
   "cell_type": "code",
   "execution_count": 4,
   "metadata": {},
   "outputs": [
    {
     "data": {
      "text/html": [
       "<div>\n",
       "<style scoped>\n",
       "    .dataframe tbody tr th:only-of-type {\n",
       "        vertical-align: middle;\n",
       "    }\n",
       "\n",
       "    .dataframe tbody tr th {\n",
       "        vertical-align: top;\n",
       "    }\n",
       "\n",
       "    .dataframe thead th {\n",
       "        text-align: right;\n",
       "    }\n",
       "</style>\n",
       "<table border=\"1\" class=\"dataframe\">\n",
       "  <thead>\n",
       "    <tr style=\"text-align: right;\">\n",
       "      <th></th>\n",
       "      <th>horsepower</th>\n",
       "      <th>weight</th>\n",
       "      <th>acceleration</th>\n",
       "    </tr>\n",
       "  </thead>\n",
       "  <tbody>\n",
       "    <tr>\n",
       "      <th>0</th>\n",
       "      <td>130.0</td>\n",
       "      <td>3504.0</td>\n",
       "      <td>12.0</td>\n",
       "    </tr>\n",
       "    <tr>\n",
       "      <th>1</th>\n",
       "      <td>165.0</td>\n",
       "      <td>3693.0</td>\n",
       "      <td>11.5</td>\n",
       "    </tr>\n",
       "    <tr>\n",
       "      <th>2</th>\n",
       "      <td>150.0</td>\n",
       "      <td>3436.0</td>\n",
       "      <td>11.0</td>\n",
       "    </tr>\n",
       "    <tr>\n",
       "      <th>3</th>\n",
       "      <td>150.0</td>\n",
       "      <td>3433.0</td>\n",
       "      <td>12.0</td>\n",
       "    </tr>\n",
       "    <tr>\n",
       "      <th>4</th>\n",
       "      <td>140.0</td>\n",
       "      <td>3449.0</td>\n",
       "      <td>10.5</td>\n",
       "    </tr>\n",
       "    <tr>\n",
       "      <th>...</th>\n",
       "      <td>...</td>\n",
       "      <td>...</td>\n",
       "      <td>...</td>\n",
       "    </tr>\n",
       "    <tr>\n",
       "      <th>393</th>\n",
       "      <td>86.0</td>\n",
       "      <td>2790.0</td>\n",
       "      <td>15.6</td>\n",
       "    </tr>\n",
       "    <tr>\n",
       "      <th>394</th>\n",
       "      <td>52.0</td>\n",
       "      <td>2130.0</td>\n",
       "      <td>24.6</td>\n",
       "    </tr>\n",
       "    <tr>\n",
       "      <th>395</th>\n",
       "      <td>84.0</td>\n",
       "      <td>2295.0</td>\n",
       "      <td>11.6</td>\n",
       "    </tr>\n",
       "    <tr>\n",
       "      <th>396</th>\n",
       "      <td>79.0</td>\n",
       "      <td>2625.0</td>\n",
       "      <td>18.6</td>\n",
       "    </tr>\n",
       "    <tr>\n",
       "      <th>397</th>\n",
       "      <td>82.0</td>\n",
       "      <td>2720.0</td>\n",
       "      <td>19.4</td>\n",
       "    </tr>\n",
       "  </tbody>\n",
       "</table>\n",
       "<p>392 rows × 3 columns</p>\n",
       "</div>"
      ],
      "text/plain": [
       "     horsepower  weight  acceleration\n",
       "0         130.0  3504.0          12.0\n",
       "1         165.0  3693.0          11.5\n",
       "2         150.0  3436.0          11.0\n",
       "3         150.0  3433.0          12.0\n",
       "4         140.0  3449.0          10.5\n",
       "..          ...     ...           ...\n",
       "393        86.0  2790.0          15.6\n",
       "394        52.0  2130.0          24.6\n",
       "395        84.0  2295.0          11.6\n",
       "396        79.0  2625.0          18.6\n",
       "397        82.0  2720.0          19.4\n",
       "\n",
       "[392 rows x 3 columns]"
      ]
     },
     "execution_count": 4,
     "metadata": {},
     "output_type": "execute_result"
    }
   ],
   "source": [
    "data = data.dropna(axis = 0)\n",
    "data"
   ]
  },
  {
   "cell_type": "markdown",
   "metadata": {},
   "source": [
    "## Q4 [5 points]\n",
    "Since these variables are on different scales (`weight` values are much larger than values for `horsepower` or `acceleration`), we need to normalize each column.\n",
    "\n",
    "Use the `StandardScaler` object from `scikit-learn` to normalize each column of `data`.\n",
    "\n",
    "[StandardScaler documentation](https://scikit-learn.org/stable/modules/generated/sklearn.preprocessing.StandardScaler.html)\n",
    "\n",
    "**NOTE:** When you are finished, make sure that `data` is still a DataFrame! "
   ]
  },
  {
   "cell_type": "code",
   "execution_count": 6,
   "metadata": {},
   "outputs": [
    {
     "data": {
      "text/html": [
       "<div>\n",
       "<style scoped>\n",
       "    .dataframe tbody tr th:only-of-type {\n",
       "        vertical-align: middle;\n",
       "    }\n",
       "\n",
       "    .dataframe tbody tr th {\n",
       "        vertical-align: top;\n",
       "    }\n",
       "\n",
       "    .dataframe thead th {\n",
       "        text-align: right;\n",
       "    }\n",
       "</style>\n",
       "<table border=\"1\" class=\"dataframe\">\n",
       "  <thead>\n",
       "    <tr style=\"text-align: right;\">\n",
       "      <th></th>\n",
       "      <th>horsepower</th>\n",
       "      <th>weight</th>\n",
       "      <th>acceleration</th>\n",
       "    </tr>\n",
       "  </thead>\n",
       "  <tbody>\n",
       "    <tr>\n",
       "      <th>0</th>\n",
       "      <td>0.664133</td>\n",
       "      <td>0.620540</td>\n",
       "      <td>-1.285258</td>\n",
       "    </tr>\n",
       "    <tr>\n",
       "      <th>1</th>\n",
       "      <td>1.574594</td>\n",
       "      <td>0.843334</td>\n",
       "      <td>-1.466724</td>\n",
       "    </tr>\n",
       "    <tr>\n",
       "      <th>2</th>\n",
       "      <td>1.184397</td>\n",
       "      <td>0.540382</td>\n",
       "      <td>-1.648189</td>\n",
       "    </tr>\n",
       "    <tr>\n",
       "      <th>3</th>\n",
       "      <td>1.184397</td>\n",
       "      <td>0.536845</td>\n",
       "      <td>-1.285258</td>\n",
       "    </tr>\n",
       "    <tr>\n",
       "      <th>4</th>\n",
       "      <td>0.924265</td>\n",
       "      <td>0.555706</td>\n",
       "      <td>-1.829655</td>\n",
       "    </tr>\n",
       "    <tr>\n",
       "      <th>...</th>\n",
       "      <td>...</td>\n",
       "      <td>...</td>\n",
       "      <td>...</td>\n",
       "    </tr>\n",
       "    <tr>\n",
       "      <th>387</th>\n",
       "      <td>-0.480448</td>\n",
       "      <td>-0.221125</td>\n",
       "      <td>0.021294</td>\n",
       "    </tr>\n",
       "    <tr>\n",
       "      <th>388</th>\n",
       "      <td>-1.364896</td>\n",
       "      <td>-0.999134</td>\n",
       "      <td>3.287676</td>\n",
       "    </tr>\n",
       "    <tr>\n",
       "      <th>389</th>\n",
       "      <td>-0.532474</td>\n",
       "      <td>-0.804632</td>\n",
       "      <td>-1.430430</td>\n",
       "    </tr>\n",
       "    <tr>\n",
       "      <th>390</th>\n",
       "      <td>-0.662540</td>\n",
       "      <td>-0.415627</td>\n",
       "      <td>1.110088</td>\n",
       "    </tr>\n",
       "    <tr>\n",
       "      <th>391</th>\n",
       "      <td>-0.584501</td>\n",
       "      <td>-0.303641</td>\n",
       "      <td>1.400433</td>\n",
       "    </tr>\n",
       "  </tbody>\n",
       "</table>\n",
       "<p>392 rows × 3 columns</p>\n",
       "</div>"
      ],
      "text/plain": [
       "     horsepower    weight  acceleration\n",
       "0      0.664133  0.620540     -1.285258\n",
       "1      1.574594  0.843334     -1.466724\n",
       "2      1.184397  0.540382     -1.648189\n",
       "3      1.184397  0.536845     -1.285258\n",
       "4      0.924265  0.555706     -1.829655\n",
       "..          ...       ...           ...\n",
       "387   -0.480448 -0.221125      0.021294\n",
       "388   -1.364896 -0.999134      3.287676\n",
       "389   -0.532474 -0.804632     -1.430430\n",
       "390   -0.662540 -0.415627      1.110088\n",
       "391   -0.584501 -0.303641      1.400433\n",
       "\n",
       "[392 rows x 3 columns]"
      ]
     },
     "execution_count": 6,
     "metadata": {},
     "output_type": "execute_result"
    }
   ],
   "source": [
    "scaler = StandardScaler()\n",
    "data = pd.DataFrame(scaler.fit_transform(data),columns = data.columns)\n",
    "data"
   ]
  },
  {
   "cell_type": "markdown",
   "metadata": {},
   "source": [
    "# Part 1: $k$-means Clustering\n",
    "\n",
    "The $k$-means algorithm is a popular and relatively simple algorithm for clustering. To initialize the algorithm, the user must first specify $k$ which represents the number of clusters to be generated. Once $k$ is chosen, the algorithm will intialize $k$ centroids, which will represent the centers of the $k$ clusters. \n",
    "\n",
    "### $k$-means algorithm:\n",
    "1. For each sample, calculate the distance between that sample and **each** of the $k$ centroids.\n",
    "2. Assign each of the samples the \"label\" of the *nearest* centroid.\n",
    "3. Update each of the $k$ centroids by setting it equal to the the **mean** of the samples which have that centroid's label. \n",
    "\n",
    "This process is performed iteratively until some stopping criteria is met. \n",
    "\n",
    "The below figure shows an example of a $k$-means clustering for $k=3$.\n",
    "\n",
    "![k-means clustering](imgs/k-means.gif)\n",
    "*Image Credit: [Wikipedia Commons](https://commons.wikimedia.org/wiki/File:K-means_convergence.gif)*\n",
    "\n",
    "## Determining the Best $k$:\n",
    "The $k$-means algorithm requires that the user choose $k$, the number of cluster centroids. However, this causes a chicken-and-egg problem! If we are trying to perform *unsupervised* learning we **don't know** how many clusters we should use in the first place! We can try clustering with multiple values for $k$, but we need a way to pick the best $k$ out of the candidates that we try.\n",
    "\n",
    "In order to find the $k$ that most agrees with the data, we will use a metric known as Silhouette Score.\n",
    "\n",
    "## Silhouette Score\n",
    "Silhouette Score is a metric that may be used to measure how well a set of cluster labels \"agree\" with the distribution of the data.\n",
    "\n",
    "Silhouette is defined by three equations:\n",
    "\n",
    "$$ a(i) = \\frac{1}{|C_i| - 1}\\sum_{j \\in C_i,i\\neq j}{d(i,j)} $$\n",
    "\n",
    "$$ b(i) = \\min_{k \\neq i} \\frac{1}{|C_k|} \\sum_{j \\in C_k}{d(i,j)}$$\n",
    "\n",
    "$$ s(i) = \\frac{b(i) - a(i)}{\\max{\\{a(i),b(i)\\}}} $$\n",
    "\n",
    "* The first equation $a(i)$ calculates the average distance from sample $i$ to all other points within the same cluster as $i$.\n",
    "* The second equation $b(i)$ calculates the average distance from sample $i$ to the points in the second-closest cluster to $i$. \n",
    "* The third equation $s(i)$ combines $a(i)$ and $b(i)$ into a single metric.\n",
    "\n",
    "Intuitively, $a(i)$ measures how close sample $i$ is to the other points in the same cluster. Low values for $i$ indicate that the $i$ is very close to the other points in the cluster, indicating that the cluster is dense.\n",
    "\n",
    "$b(i)$ measures the distance between $i$'s \"home\" cluster and the second-closest cluster to $i$. If this value is large, than $i$ is well-clustered, since it is much closer to points within its own cluster than to points in the second closest cluster. \n",
    "\n",
    "$s(i)$ arranges $a(i)$ and $b(i)$ into a normalized term in the interval $[-1,1]$. A value of $s(i) \\approx 1$, indicates a \"good\" clustering for $i$, since $s(i)$ will be close to one when:\n",
    "* $a(i)$ is small ($i$ is close to its neighbor points)\n",
    "\n",
    "and/or\n",
    "* $b(i)$ is large ($i$ is well-separated from the neighboring cluster). \n",
    "\n",
    "Similarly, a value of $s(i) \\approx -1$ indicates the *worst possible clustering* for $i$, since either:\n",
    "* $a(i)$ is very big ($i$ is not close to its neighbors)\n",
    "\n",
    "and/or\n",
    "* $b(i)$ is very small ($i$ is very close to a neighboring cluster).\n",
    "\n",
    "The Silhouette coefficient $s(i)$ shown above is calculated once for each sample being clustered. Taking the average of $s(i)$ for all clustered samples will give an overall measure of cluster \"agreement\" with the data. \n",
    "\n",
    "In the next section, we will perform multiple $k$-means clustering operations, and evaluate each one using the Silhouette coefficient."
   ]
  },
  {
   "cell_type": "code",
   "execution_count": 7,
   "metadata": {},
   "outputs": [],
   "source": [
    "from sklearn.cluster import KMeans\n",
    "from sklearn.metrics import silhouette_score\n",
    "import seaborn as sns"
   ]
  },
  {
   "cell_type": "markdown",
   "metadata": {},
   "source": [
    "We can create a $k$-means model using `KMeans` from `scikit-learn`."
   ]
  },
  {
   "cell_type": "code",
   "execution_count": 8,
   "metadata": {},
   "outputs": [],
   "source": [
    "km_obj = KMeans(n_clusters=5)"
   ]
  },
  {
   "cell_type": "markdown",
   "metadata": {},
   "source": [
    "Using the `km_obj` model we created above, we can fit the model and then retrieve the cluster labeling for each sample using the `fit_predict` method of `km_obj`."
   ]
  },
  {
   "cell_type": "code",
   "execution_count": 9,
   "metadata": {},
   "outputs": [
    {
     "data": {
      "text/plain": [
       "(392,)"
      ]
     },
     "execution_count": 9,
     "metadata": {},
     "output_type": "execute_result"
    }
   ],
   "source": [
    "labels = km_obj.fit_predict(data)\n",
    "labels.shape"
   ]
  },
  {
   "cell_type": "markdown",
   "metadata": {},
   "source": [
    "## Q5 [15 points]\n",
    "\n",
    "For $k = [2,15]$, fit a $k$-means model with $k$ centroids.\n",
    "\n",
    "Record the labels provided by $k$-means in the dictionary `labels_k`, such that `labels_k[i]` holds the array of labels returned from the $k$-means fit with $i$ centroids.\n",
    "\n",
    "Your `labels_k` dictionary should look something like this:\n",
    "\n",
    "```\n",
    "{2: array([...]),\n",
    " 3: array([...]),\n",
    " ...\n",
    " 15: array([...])}\n",
    "```\n",
    "\n",
    "Where each `array([...])` contains a set of $k$-means labels."
   ]
  },
  {
   "cell_type": "code",
   "execution_count": 27,
   "metadata": {},
   "outputs": [],
   "source": [
    "labels_k = dict()\n",
    "# TODO: Answer Q5\n",
    "for index in range(2,16):\n",
    "    km_obj = KMeans(n_clusters=index)\n",
    "    labels_k[index] = km_obj.fit_predict(data)\n"
   ]
  },
  {
   "cell_type": "markdown",
   "metadata": {},
   "source": [
    "In the example above, we created a $k$-means fit with $k=5$ and stored the resulting labeling in `labels`. To calculate the average Silhouette coefficient for our entire dataset, we can use the `silhouette_score` function from `scikit-learn`.\n",
    "\n",
    "`silhouette_score` expects to be called like `silhouette_score(data,labels)`."
   ]
  },
  {
   "cell_type": "code",
   "execution_count": 28,
   "metadata": {},
   "outputs": [
    {
     "name": "stdout",
     "output_type": "stream",
     "text": [
      "Silhouette score for K=5: 0.354\n"
     ]
    }
   ],
   "source": [
    "print(\"Silhouette score for K=5: %0.3f\" % silhouette_score(data,labels))"
   ]
  },
  {
   "cell_type": "markdown",
   "metadata": {},
   "source": [
    "## Q6 [15 points]\n",
    "\n",
    "Great! Now that we have a set of $k$-means labelings for $k = [2,15]$, we can evaluate each one using `silhouette_score` to obtain the \"best\" fitting $k$ for our model.\n",
    "\n",
    "We will use the `labels_k` dictionary you created above to plot the Silhouette score for each $k$.\n",
    "\n",
    "### 6.1:\n",
    "Create a line plot which has $k$ on the X-axis, and the calculated Silhouette score on the Y-axis (refer to the above cell for how to calculate Silhouette score given a set of labels).\n",
    "\n",
    "The plot should show a line along with markers at each point. \n",
    "\n",
    "Be sure to label your axes and give the chart a title!\n",
    "\n",
    "### 6.2:\n",
    "Based on what we saw with Silhouette coefficient in the previous section, which value of $k$ provides the \"best\" (as defined by silhouette score) agreement between the clusters and the data?"
   ]
  },
  {
   "cell_type": "code",
   "execution_count": 43,
   "metadata": {},
   "outputs": [
    {
     "data": {
      "text/plain": [
       "[<matplotlib.lines.Line2D at 0x7f86ffc27df0>]"
      ]
     },
     "execution_count": 43,
     "metadata": {},
     "output_type": "execute_result"
    },
    {
     "data": {
      "image/png": "[encoded data removed]",
      "text/plain": [
       "<Figure size 432x288 with 1 Axes>"
      ]
     },
     "metadata": {
      "needs_background": "light"
     },
     "output_type": "display_data"
    }
   ],
   "source": [
    "# TODO:\n",
    "# Answer 6.1 here.\n",
    "x = [*range(2,16)]\n",
    "s_score = []\n",
    "for i in labels_k.values():\n",
    "    s_score.append(silhouette_score(data,i))\n",
    "plt.xlabel('K')\n",
    "plt.ylabel('Silhouette score')\n",
    "plt.title(' K vs Silhouette score')\n",
    "plt.plot(x,s_score)\n"
   ]
  },
  {
   "cell_type": "code",
   "execution_count": 45,
   "metadata": {},
   "outputs": [],
   "source": [
    "# TODO:\n",
    "# Answer 6.2 here.\n",
    "# K=2 provides the best value for the Silhouette score because its closest to 1."
   ]
  },
  {
   "cell_type": "markdown",
   "metadata": {},
   "source": [
    "Now let's visualize some of these clustering results. \n",
    "\n",
    "We can use the `pairplot` function from the `seaborn` library to produce a grid of scatter plots between each pair of variables.\n",
    "\n",
    "The `plot_kws={\"s\":10}` argument sets the size of the points in the scatter plot to be `10`. This is because sometimes larger point sizes can make it difficult to see separation between groups. You may change this to be larger or smaller if you wish."
   ]
  },
  {
   "cell_type": "code",
   "execution_count": 46,
   "metadata": {},
   "outputs": [],
   "source": [
    "import seaborn as sns"
   ]
  },
  {
   "cell_type": "code",
   "execution_count": 48,
   "metadata": {},
   "outputs": [
    {
     "data": {
      "text/plain": [
       "<seaborn.axisgrid.PairGrid at 0x7f87007049a0>"
      ]
     },
     "execution_count": 48,
     "metadata": {},
     "output_type": "execute_result"
    },
    {
     "data": {
      "image/png": "[encoded data removed]",
      "text/plain": [
       "<Figure size 540x540 with 12 Axes>"
      ]
     },
     "metadata": {
      "needs_background": "light"
     },
     "output_type": "display_data"
    }
   ],
   "source": [
    "v_data = data.copy()\n",
    "sns.pairplot(v_data,plot_kws={\"s\":10})"
   ]
  },
  {
   "cell_type": "markdown",
   "metadata": {},
   "source": [
    "Using the `hue` argument to `pairplot`, we can select one of the columns to be the color for the plot. This is handy for visualizing clustering results.\n",
    "\n",
    "First, let's visualize the clustering result for $k=2$."
   ]
  },
  {
   "cell_type": "code",
   "execution_count": 52,
   "metadata": {},
   "outputs": [
    {
     "data": {
      "text/plain": [
       "<seaborn.axisgrid.PairGrid at 0x7f86e2eca370>"
      ]
     },
     "execution_count": 52,
     "metadata": {},
     "output_type": "execute_result"
    },
    {
     "data": {
      "image/png": "[encoded data removed]",
      "text/plain": [
       "<Figure size 582.375x540 with 12 Axes>"
      ]
     },
     "metadata": {
      "needs_background": "light"
     },
     "output_type": "display_data"
    }
   ],
   "source": [
    "VIS_K = 2\n",
    "v_data[\"labels\"] = labels_k[VIS_K]\n",
    "sns.pairplot(data=v_data,hue=\"labels\",plot_kws={\"s\":10})"
   ]
  },
  {
   "cell_type": "markdown",
   "metadata": {},
   "source": [
    "## Q7 [10 points]\n",
    "In a few sentences, use the above plot to discuss how the clustering algorithm has partitioned our data.\n",
    "\n",
    "Here are some examples of questions you might discuss in your answer:\n",
    "\n",
    "* What do the members of each cluster have in common?\n",
    "* Are there any variables that appear to be important/not important for cluster separation?\n",
    "\n",
    "You can also try setting the `VIS_K` variable to a different value, to visualize the cluster separation for other values of $k$. \n",
    "\n",
    "* What happens to the clusters as you increase the value of $k$?"
   ]
  },
  {
   "cell_type": "code",
   "execution_count": 97,
   "metadata": {},
   "outputs": [],
   "source": [
    "#TODO: Answer Q7 here.\n",
    "# we can clearly see that in the graph that acceleration is the least important as both the clusters are overlapping with each other quiet a lot. And horsepowe is the \n",
    "# most important as both the clusters are least overlapping with each other."
   ]
  },
  {
   "cell_type": "markdown",
   "metadata": {},
   "source": [
    "# Part 2: Agglomerative Clustering (Extra Credit)\n",
    "\n",
    "## IMPORTANT:\n",
    "This section (Questions 8, 9, and 10) gives you the opportunity to earn up to 20 extra credit points! This section is optional, so if you do not want the extra credit, just proceed to **Part 3: Autoencoder**.\n",
    "\n",
    "## Overview:\n",
    "\n",
    "Agglomerative clustering is a method for bottom-up hierarchical clustering. In Agglomerative clustering, each sample starts in its own \"cluster\". A distance metric and linkage criterion are used to determine which clusters to merge with each other at each step. Intuitively, pairs of clusters which are very similar to each other may be merged.\n",
    "\n",
    "Since each sample starts in its own cluster and is merged into larger clusters, the clustering result may be easily visualized as a \"tree\" of hierarchical clusters. \n",
    "\n",
    "![hierarchical clustering result](imgs/hierarchical_cluster.png)\n",
    "*Image Credit: [Wikipedia](https://en.wikipedia.org/wiki/Hierarchical_clustering#/media/File:Hierarchical_clustering_simple_diagram.svg)*\n",
    "\n",
    "To obtain a clustering result for $k$ clusters, one just needs to cut the \"tree\" at the appropriate point. \n",
    "\n",
    "In the following section, we will also apply Agglomerative clustering as a technique for clustering our auto data."
   ]
  },
  {
   "cell_type": "code",
   "execution_count": 53,
   "metadata": {},
   "outputs": [],
   "source": [
    "from sklearn.cluster import AgglomerativeClustering"
   ]
  },
  {
   "cell_type": "markdown",
   "metadata": {},
   "source": [
    "As with the prior section, we can create a `AgglomerativeClustering` object to perform clustering for us. The `n_clusters` parameter controls the value for number of clusters $k$.\n",
    "\n",
    "Here we create an `AgglomerativeClustering` object and call it `agg_obj`, then use the `fit_predict` method to fit it and produce a label set for our data.\n",
    "\n",
    "Finally, we print out the Silhouette score using `silhouette_score`."
   ]
  },
  {
   "cell_type": "code",
   "execution_count": 54,
   "metadata": {},
   "outputs": [
    {
     "name": "stdout",
     "output_type": "stream",
     "text": [
      "Agglomerative Clustering Silhouette score for K=5: 0.329\n"
     ]
    }
   ],
   "source": [
    "agg_obj = AgglomerativeClustering(n_clusters=5)\n",
    "agg_labels = agg_obj.fit_predict(data)\n",
    "print(\"Agglomerative Clustering Silhouette score for K=5: %0.3f\" % silhouette_score(data,agg_labels))"
   ]
  },
  {
   "cell_type": "markdown",
   "metadata": {},
   "source": [
    "## Q8 [10 points]\n",
    "\n",
    "For $k = [2,15]$, fit a Agglomerative Clustering model with $k$ clusters and store the results in the dictionary `agg_labels_k`.\n",
    "\n",
    "The dictionary entry `agg_labels_k[i]` should hold the array of labels returned from the clustering fit with $i$ clusters.\n",
    "\n",
    "Your `agg_labels_k` dictionary should look something like this:\n",
    "\n",
    "```\n",
    "{2: array([...]),\n",
    " 3: array([...]),\n",
    " ...\n",
    " 15: array([...])}\n",
    "```\n",
    "\n",
    "Where each `array([...])` contains a set of cluster labels.\n",
    "\n",
    "**NOTE:** You can resue most of your code from Q5!"
   ]
  },
  {
   "cell_type": "code",
   "execution_count": 55,
   "metadata": {},
   "outputs": [],
   "source": [
    "agg_labels_k = dict()\n",
    "# TODO: Answer Q8 here.\n",
    "for index in range(2,16):\n",
    "    agg_obj = AgglomerativeClustering(n_clusters=index)\n",
    "    agg_labels_k[index] = agg_obj.fit_predict(data)"
   ]
  },
  {
   "cell_type": "markdown",
   "metadata": {},
   "source": [
    "## Q9 [5 points]\n",
    "\n",
    "Using your `agg_labels_k` dictionary, create a line plot which has $k$ on the X-axis, and the calculated Silhouette score on the Y-axis (refer to the above cell for how to calculate Silhouette score given a set of labels).\n",
    "\n",
    "The plot should show a line along with markers at each point. \n",
    "\n",
    "Be sure to label your axes and give the chart a title!"
   ]
  },
  {
   "cell_type": "code",
   "execution_count": 58,
   "metadata": {},
   "outputs": [
    {
     "data": {
      "text/plain": [
       "[<matplotlib.lines.Line2D at 0x7f86e3b61310>]"
      ]
     },
     "execution_count": 58,
     "metadata": {},
     "output_type": "execute_result"
    },
    {
     "data": {
      "image/png": "[encoded data removed]",
      "text/plain": [
       "<Figure size 432x288 with 1 Axes>"
      ]
     },
     "metadata": {
      "needs_background": "light"
     },
     "output_type": "display_data"
    }
   ],
   "source": [
    "#TODO: Answer Q9 here.\n",
    "xx = [*range(2,16)]\n",
    "ss_score = []\n",
    "for i in agg_labels_k.values():\n",
    "    ss_score.append(silhouette_score(data,i))\n",
    "plt.xlabel('K')\n",
    "plt.ylabel('Silhouette score')\n",
    "plt.title(' K vs Silhouette score')\n",
    "plt.plot(xx,ss_score)"
   ]
  },
  {
   "cell_type": "markdown",
   "metadata": {},
   "source": [
    "## Q10 [5 points]\n",
    "How do you think that Agglomerative Clustering performed relative to $k$-means?\n",
    "\n",
    "Since the clustering algorithms differ in how they perform clustering (centroid-based vs merging pairs of clusters), are there any situations where it might be better to use one algorithm over the other?"
   ]
  },
  {
   "cell_type": "code",
   "execution_count": 59,
   "metadata": {},
   "outputs": [],
   "source": [
    "# TODO: Answer Q10 here.\n",
    "# K=2 provides the best value for the Silhouette score because its closest to 1 same as K-means\n",
    "# On this dataset it seem like K_means is doing a good job as compared to agg_clustering i am not entirealy sure but their performance is not far a part k_means is\n",
    "# is just a little better not a whole lot. it might have to do something with the data set as pairwise might an overkill for just three features in out dataset. "
   ]
  },
  {
   "cell_type": "markdown",
   "metadata": {},
   "source": [
    "# Part 3: Autoencoder\n",
    "\n",
    "For high-dimensional datasets, clustering based on raw data may not be optimal due to the curse of dimensionality, which shows that distance comparisons between samples become less meaningful as the dimensionality of the data increases. \n",
    "\n",
    "One solution to this is to use a dimensionality reduction technique before applying clustering. \n",
    "\n",
    "Autoenocoders are a neural network architecture which may be used to perform dimensionality reduction. These models are trained to reconstruct their inputs from a \"constrained\" view of the data. The autoencoder must learn features of the data in order to compress the data into a lower dimensional representation.\n",
    "\n",
    "![Autoencoder](imgs/Autoencoder_structure.png)\n",
    "*Image Credit: [Wikipedia](https://en.wikipedia.org/wiki/Autoencoder#/media/File:Autoencoder_structure.png)*\n",
    "\n",
    "In this section we will build a simple autoencoder model and apply it to learn a featurization of the well-known MNIST handwritten digits dataset."
   ]
  },
  {
   "cell_type": "code",
   "execution_count": 62,
   "metadata": {},
   "outputs": [],
   "source": [
    "import os\n",
    "# Required to avoid a kernel crash on MacOS\n",
    "os.environ['KMP_DUPLICATE_LIB_OK']='True'\n",
    "from tensorflow import keras"
   ]
  },
  {
   "cell_type": "markdown",
   "metadata": {},
   "source": [
    "In this cell we define the Encoder and Decoder portions of our model. Our model will have 2 convolutional layers, each followed by a max-pool layer.\n",
    "\n",
    "At the end, we flatten the output to create a feature vector of 16 dimensions per-sample (a large reduction from the original 768 dimensions per-sample)."
   ]
  },
  {
   "cell_type": "code",
   "execution_count": 63,
   "metadata": {},
   "outputs": [],
   "source": [
    "input_layer = keras.layers.Input((28,28,1))\n",
    "layer_outputs = [input_layer]\n",
    "# Build Encoder layers\n",
    "enc_conv_1 = keras.layers.Conv2D(filters=8,kernel_size=(3,3),activation=\"relu\",padding=\"same\",name=\"enc_conv_1\")(input_layer)\n",
    "enc_mp_1 = keras.layers.MaxPool2D(pool_size=2,name=\"enc_mp_1\")(enc_conv_1)\n",
    "enc_conv_2 = keras.layers.Conv2D(filters=16,kernel_size=(3,3),activation=\"relu\",padding=\"same\",name=\"enc_conv_2\")(enc_mp_1)\n",
    "enc_mp_2 = keras.layers.MaxPool2D(pool_size=2,name=\"enc_mp_2\")(enc_conv_2)\n",
    "enc_flat = keras.layers.Flatten(name=\"enc_flat\")(enc_mp_2)\n",
    "enc_dense = keras.layers.Dense(units=16,name=\"enc_dense\")(enc_flat)\n",
    "# Build Decoder layers\n",
    "decoder_input = enc_dense\n",
    "dec_dense = keras.layers.Dense(units=enc_flat.shape[-1],name=\"dec_dense\")(decoder_input)\n",
    "dec_reshape = keras.layers.Reshape(enc_mp_2.shape[1:],name=\"dec_reshape\")(dec_dense)\n",
    "dec_upsmp_2 = keras.layers.UpSampling2D(name=\"dec_upsmp_2\")(dec_reshape)\n",
    "dec_deconv_2 = keras.layers.Conv2DTranspose(filters=16,kernel_size=(3,3),activation=\"relu\",padding=\"same\",name=\"dec_deconv_2\")(dec_upsmp_2)\n",
    "dec_upsmp_1 = keras.layers.UpSampling2D(name=\"dec_upsmp_1\")(dec_deconv_2)\n",
    "dec_deconv_1 = keras.layers.Conv2DTranspose(filters=1,kernel_size=(3,3),activation=\"relu\",padding=\"same\",name=\"dec_deconv_1\")(dec_upsmp_1)"
   ]
  },
  {
   "cell_type": "markdown",
   "metadata": {},
   "source": [
    "Now that we have built all of the individual layers, we create a new `Model` and pass it the inputs `input_layer` and outputs `dec_deconv_1` for our model."
   ]
  },
  {
   "cell_type": "code",
   "execution_count": 64,
   "metadata": {},
   "outputs": [
    {
     "name": "stdout",
     "output_type": "stream",
     "text": [
      "Model: \"functional_1\"\n",
      "_________________________________________________________________\n",
      "Layer (type)                 Output Shape              Param #   \n",
      "=================================================================\n",
      "input_1 (InputLayer)         [(None, 28, 28, 1)]       0         \n",
      "_________________________________________________________________\n",
      "enc_conv_1 (Conv2D)          (None, 28, 28, 8)         80        \n",
      "_________________________________________________________________\n",
      "enc_mp_1 (MaxPooling2D)      (None, 14, 14, 8)         0         \n",
      "_________________________________________________________________\n",
      "enc_conv_2 (Conv2D)          (None, 14, 14, 16)        1168      \n",
      "_________________________________________________________________\n",
      "enc_mp_2 (MaxPooling2D)      (None, 7, 7, 16)          0         \n",
      "_________________________________________________________________\n",
      "enc_flat (Flatten)           (None, 784)               0         \n",
      "_________________________________________________________________\n",
      "enc_dense (Dense)            (None, 16)                12560     \n",
      "_________________________________________________________________\n",
      "dec_dense (Dense)            (None, 784)               13328     \n",
      "_________________________________________________________________\n",
      "dec_reshape (Reshape)        (None, 7, 7, 16)          0         \n",
      "_________________________________________________________________\n",
      "dec_upsmp_2 (UpSampling2D)   (None, 14, 14, 16)        0         \n",
      "_________________________________________________________________\n",
      "dec_deconv_2 (Conv2DTranspos (None, 14, 14, 16)        2320      \n",
      "_________________________________________________________________\n",
      "dec_upsmp_1 (UpSampling2D)   (None, 28, 28, 16)        0         \n",
      "_________________________________________________________________\n",
      "dec_deconv_1 (Conv2DTranspos (None, 28, 28, 1)         145       \n",
      "=================================================================\n",
      "Total params: 29,601\n",
      "Trainable params: 29,601\n",
      "Non-trainable params: 0\n",
      "_________________________________________________________________\n"
     ]
    }
   ],
   "source": [
    "model = keras.Model(inputs=input_layer,outputs=dec_deconv_1)\n",
    "model.summary()"
   ]
  },
  {
   "cell_type": "markdown",
   "metadata": {},
   "source": [
    "## Q11 [5 points]\n",
    "\n",
    "In a few sentences, give your interpretation of what the architecture shown above is doing. "
   ]
  },
  {
   "cell_type": "code",
   "execution_count": 65,
   "metadata": {},
   "outputs": [],
   "source": [
    "# TODO: Answer Q11 here\n",
    "# The architecture shown above is using the encoder layers to Encode the input data and then passing the Encoded data to Decoder layers to decode it and minimize the\n",
    "# reconstruction error"
   ]
  },
  {
   "cell_type": "markdown",
   "metadata": {},
   "source": [
    "## Q12 [10 points]\n",
    "Now we need to load in the MNIST data:\n",
    "\n",
    "In the next cells:\n",
    "\n",
    "1. Load `train.fmat.txt` and `ictrain.imat.txt` to numpy arrays called `imgs` and `labels` respectively.\n",
    "2. Transpose `imgs` and `labels` so that the labels are the first dimension.\n",
    "3. Scale the values in `imgs` to fall between 0 and 1. \n",
    "4. Reshape the images from their flattened `768`-dimensional format so that each image is shape `28,28,1`. (i.e. your `imgs` array is shape `4000,28,28,1`).\n",
    "\n",
    "**HINT:** You have done all of these procedures before for Lab 8."
   ]
  },
  {
   "cell_type": "code",
   "execution_count": 87,
   "metadata": {},
   "outputs": [],
   "source": [
    "#TODO: Answer Q12\n",
    "imgs = np.loadtxt(\"Data/train.fmat.txt\")\n",
    "labels = np.loadtxt(\"Data/ictrain.imat.txt\")\n",
    "\n",
    "imgs = imgs.T\n",
    "imgs = (imgs - np.min(imgs)) / (np.max(imgs) - np.min(imgs))\n",
    "imgs = imgs.reshape(imgs.shape[0], 28, 28, 1)\n"
   ]
  },
  {
   "cell_type": "code",
   "execution_count": 88,
   "metadata": {},
   "outputs": [],
   "source": [
    "# Test cases.\n",
    "assert(imgs.shape[0] == 4000)\n",
    "assert(labels.shape[0] == 4000)\n",
    "assert(imgs.shape == (4000,28,28,1))\n",
    "assert(imgs.max() <= 1.0)\n",
    "assert(imgs.min() >= 0.0)"
   ]
  },
  {
   "cell_type": "markdown",
   "metadata": {},
   "source": [
    "Now we can train our model by calling `model.compile` to compile the model, and `model.fit` to train the model with our data.\n",
    "\n",
    "Notice that because this is an autoencoder structure, both the inputs *and* outputs are `imgs`. There are no labels!\n",
    "\n",
    "**NOTE:** For the sake of time, we will only train for 10 epochs. (10 epochs runs in roughly 1 minute on a typical PC, but if this is taking too long for you, you may reduce the number of epochs.)\n",
    "\n",
    "Alternatively, if you have a fast computer and/or a GPU, you might be able to train for more than 10 epochs, to see if you can get better performance!"
   ]
  },
  {
   "cell_type": "code",
   "execution_count": 89,
   "metadata": {},
   "outputs": [],
   "source": [
    "model.compile(optimizer=\"adam\",loss=\"mean_squared_error\")"
   ]
  },
  {
   "cell_type": "code",
   "execution_count": 90,
   "metadata": {},
   "outputs": [
    {
     "name": "stdout",
     "output_type": "stream",
     "text": [
      "Epoch 1/10\n",
      "250/250 [==============================] - 2s 7ms/step - loss: 0.0134\n",
      "Epoch 2/10\n",
      "250/250 [==============================] - 2s 7ms/step - loss: 0.0132\n",
      "Epoch 3/10\n",
      "250/250 [==============================] - 2s 7ms/step - loss: 0.0129\n",
      "Epoch 4/10\n",
      "250/250 [==============================] - 2s 7ms/step - loss: 0.0128\n",
      "Epoch 5/10\n",
      "250/250 [==============================] - 2s 7ms/step - loss: 0.0127\n",
      "Epoch 6/10\n",
      "250/250 [==============================] - 2s 7ms/step - loss: 0.0124\n",
      "Epoch 7/10\n",
      "250/250 [==============================] - 2s 8ms/step - loss: 0.0123\n",
      "Epoch 8/10\n",
      "250/250 [==============================] - 2s 8ms/step - loss: 0.0122\n",
      "Epoch 9/10\n",
      "250/250 [==============================] - 2s 8ms/step - loss: 0.0121\n",
      "Epoch 10/10\n",
      "250/250 [==============================] - 2s 7ms/step - loss: 0.0120\n"
     ]
    },
    {
     "data": {
      "text/plain": [
       "<tensorflow.python.keras.callbacks.History at 0x7f86d556e100>"
      ]
     },
     "execution_count": 90,
     "metadata": {},
     "output_type": "execute_result"
    }
   ],
   "source": [
    "model.fit(imgs,imgs,epochs=10,batch_size=16)"
   ]
  },
  {
   "cell_type": "markdown",
   "metadata": {},
   "source": [
    "Now that we have trained the model, lets view our model's \"predictions\" for the input images!"
   ]
  },
  {
   "cell_type": "code",
   "execution_count": 91,
   "metadata": {},
   "outputs": [],
   "source": [
    "pred_images = model.predict(imgs)"
   ]
  },
  {
   "cell_type": "markdown",
   "metadata": {},
   "source": [
    "## Q13 [10 points]\n",
    "`imgs` contains the original data images, and `pred_images` contains our model's \"predicted\" images for each of the images in `imgs`. \n",
    "\n",
    "Choose 2 images from `imgs` and use `plt.imshow` to plot them along with their corresponding predicted images from `pred_images`.\n",
    "\n",
    "**HINT:** The indices of the first dimensions are the same, so `pred_images[i]` refers to the predicted image for image `imgs[i]`."
   ]
  },
  {
   "cell_type": "code",
   "execution_count": 101,
   "metadata": {},
   "outputs": [
    {
     "data": {
      "text/plain": [
       "Text(0.5, 1.0, 'predicted')"
      ]
     },
     "execution_count": 101,
     "metadata": {},
     "output_type": "execute_result"
    },
    {
     "data": {
      "image/png": "[encoded data removed]",
      "text/plain": [
       "<Figure size 1080x1080 with 4 Axes>"
      ]
     },
     "metadata": {
      "needs_background": "light"
     },
     "output_type": "display_data"
    }
   ],
   "source": [
    "fig,ax = plt.subplots(ncols=4,figsize=(15,15))\n",
    "\n",
    "ax[0].imshow(imgs[0])\n",
    "ax[0].set_title(\"actual\")\n",
    "ax[1].imshow(pred_images[0])\n",
    "ax[1].set_title(\"predicted\")\n",
    "ax[2].imshow(imgs[1])\n",
    "ax[2].set_title(\"actual\")\n",
    "ax[3].imshow(pred_images[1])\n",
    "ax[3].set_title(\"predicted\")"
   ]
  },
  {
   "cell_type": "markdown",
   "metadata": {},
   "source": [
    "Now we can try clustering with our Autoencoder's featurized data. First we need to get the feature vectors for our data!\n",
    "\n",
    "In order to get the predictions from the \"latent space\" of our model, we need to create a new Keras model to represent just the Encoder portion of the autencoder. This model will uses `input_layer` for the input and `enc_dense` for the output, since `enc_dense` is our \"latent features\" layer. If this is confusing, refer back to the `model.summary()` call which shows the full architecture of the model.\n",
    "\n",
    "Our new model `latent_model` will help with getting the latent features. Note that we don't call `fit()` on this model. Since we are using the same layers that we used for our original `model`, the paramters for this subset of the model are already trained! We can simply call `latent_model.predict()` to get the feature vectors for our data."
   ]
  },
  {
   "cell_type": "code",
   "execution_count": 93,
   "metadata": {},
   "outputs": [
    {
     "data": {
      "text/plain": [
       "(4000, 16)"
      ]
     },
     "execution_count": 93,
     "metadata": {},
     "output_type": "execute_result"
    }
   ],
   "source": [
    "latent_model = keras.Model(inputs=input_layer,outputs=enc_dense)\n",
    "latent_features = latent_model.predict(imgs)\n",
    "latent_features.shape"
   ]
  },
  {
   "cell_type": "markdown",
   "metadata": {},
   "source": [
    "Now `latent_features` holds 16-dimensional feature vectors for each of our 4000 samples.\n",
    "We can try clustering on these latent features to see how well the dimensionality reduction has worked!\n",
    "\n",
    "Since we have ground-truth labels for this dataset, we can evaluate performance directly using these labels instead of using Silhouette score."
   ]
  },
  {
   "cell_type": "code",
   "execution_count": 94,
   "metadata": {},
   "outputs": [],
   "source": [
    "from sklearn.metrics import adjusted_rand_score"
   ]
  },
  {
   "cell_type": "markdown",
   "metadata": {},
   "source": [
    "## Q14 [5 points]\n",
    "\n",
    "Run a $k$-means clustering on `latent_features` using $k=10$, and record the labels as `img_clust_labels`.\n",
    "\n",
    "Just as before, you can use the `KMeans` object from `scikit-learn` to do this for you."
   ]
  },
  {
   "cell_type": "code",
   "execution_count": 95,
   "metadata": {},
   "outputs": [],
   "source": [
    "#TODO: Q14\n",
    "km_obj = KMeans(n_clusters=10)\n",
    "img_clust_labels = km_obj.fit_predict(latent_features)"
   ]
  },
  {
   "cell_type": "markdown",
   "metadata": {},
   "source": [
    "Now we will evaluate performance using adjusted rand index (ARI). ARI is a measure similar to accuracy, where larger values indicate better performance. An ARI of 1.0 indicates perfect (100%) accuracy, and a value close to 0 indicates 0% accuracy.\n",
    "\n",
    "You can learn more about Adjusted Rand Index here: [ARI Documentation](https://scikit-learn.org/stable/modules/generated/sklearn.metrics.adjusted_rand_score.html)"
   ]
  },
  {
   "cell_type": "code",
   "execution_count": 96,
   "metadata": {},
   "outputs": [
    {
     "name": "stdout",
     "output_type": "stream",
     "text": [
      "ARI for CAE featurized MNIST: 0.469\n"
     ]
    }
   ],
   "source": [
    "print(\"ARI for CAE featurized MNIST: %0.3f\" % adjusted_rand_score(img_clust_labels,labels))"
   ]
  },
  {
   "cell_type": "markdown",
   "metadata": {},
   "source": [
    "## Q15 [5 points]\n",
    "How well did the AE model do on this dataset?"
   ]
  },
  {
   "cell_type": "code",
   "execution_count": null,
   "metadata": {},
   "outputs": [],
   "source": [
    "# TODO: Answer Q15 here.\n",
    "# The AE model did not perform very good based on the ARI measure of 0.469. "
   ]
  },
  {
   "cell_type": "markdown",
   "metadata": {},
   "source": [
    "Done! Save and submit your notebook on Canvas."
   ]
  }
 ],
 "metadata": {
  "kernelspec": {
   "display_name": "Python 3",
   "language": "python",
   "name": "python3"
  },
  "language_info": {
   "codemirror_mode": {
    "name": "ipython",
    "version": 3
   },
   "file_extension": ".py",
   "mimetype": "text/x-python",
   "name": "python",
   "nbconvert_exporter": "python",
   "pygments_lexer": "ipython3",
   "version": "3.8.2"
  }
 },
 "nbformat": 4,
 "nbformat_minor": 4
}
