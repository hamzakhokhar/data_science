{
 "cells": [
  {
   "cell_type": "markdown",
   "metadata": {},
   "source": [
    "# CSCI 4580|5580: Data Science\n",
    "## Lab 7: Logistic Regression, AUC and Random Forests\n",
    "\n",
    "#### Full name: Hamza Khokhar\n",
    "#### Student ID: 109644074"
   ]
  },
  {
   "cell_type": "markdown",
   "metadata": {},
   "source": [
    "Given enough data, Logisitic Regression should always do at least as well as Naive Bayes on binary-feature data. Let's try that out on the text dataset (named <b>words</b>) that can be downloaded from Canvas under Lab 7. Place it in the same directory as this notebook and unzip it.\n",
    "\n",
    "We'll also need the <b>MNIST</b> data from the last lab (Lab 6, but also available under Lab 7). Download it from Canvas and put it under the same directory as this notebook and unzip it.\n",
    "\n",
    "First, load the text data:"
   ]
  },
  {
   "cell_type": "code",
   "execution_count": 85,
   "metadata": {},
   "outputs": [],
   "source": [
    "import numpy as np\n",
    "import scipy.sparse as sp\n",
    "import numpy.random as npr\n",
    "import matplotlib.pyplot as plt\n",
    "%matplotlib inline\n",
    "\n",
    "iwords = np.loadtxt(\"words.imat.txt\")          # training data matrix in nnz x 3 form - rows are (doc, word, count) triples\n",
    "traincats = np.loadtxt(\"cats.imat.txt\")        # training labels in an ntrain x ncats matrix\n",
    "tiwords = np.loadtxt(\"testwords.imat.txt\")     # test data matrix in nnz x 3 form\n",
    "testcats = np.loadtxt(\"testcats.imat.txt\")     # test labels"
   ]
  },
  {
   "cell_type": "markdown",
   "metadata": {},
   "source": [
    "The data come as dense matrices with (row, col, val) triples in their rows. But they represent sparse matrices so we do the conversion next. Note that the matrix constructor uses wordcount>0 tests instead of the actual word counts which has the effect of making the word features binary. "
   ]
  },
  {
   "cell_type": "code",
   "execution_count": 86,
   "metadata": {},
   "outputs": [],
   "source": [
    "train = sp.csr_matrix((iwords[:,2].astype(\"int\") > 0, (iwords[:,1].astype(\"int\"), iwords[:,0].astype(\"int\"))))\n",
    "ntrain = train.shape[0]\n",
    "nfeats = train.shape[1]\n",
    "\n",
    "test = sp.csr_matrix((tiwords[:,2] > 0, (tiwords[:,1], tiwords[:,0])),shape=(4000,nfeats))  # need to match the number of cols (words)\n",
    "ntdocs = test.shape[0]"
   ]
  },
  {
   "cell_type": "markdown",
   "metadata": {},
   "source": [
    "Once again we will concentrate on one label category, Category 6."
   ]
  },
  {
   "cell_type": "code",
   "execution_count": 87,
   "metadata": {},
   "outputs": [],
   "source": [
    "traincat6 = traincats[:,6]\n",
    "testcat6 = testcats[:,6]\n"
   ]
  },
  {
   "cell_type": "markdown",
   "metadata": {},
   "source": [
    "Now we'll import a Logistic Regression Classifier"
   ]
  },
  {
   "cell_type": "code",
   "execution_count": 88,
   "metadata": {},
   "outputs": [],
   "source": [
    "from sklearn.linear_model import LogisticRegression\n",
    "lrclassifier = LogisticRegression()"
   ]
  },
  {
   "cell_type": "markdown",
   "metadata": {},
   "source": [
    "and train it on the data:"
   ]
  },
  {
   "cell_type": "code",
   "execution_count": 89,
   "metadata": {},
   "outputs": [
    {
     "name": "stderr",
     "output_type": "stream",
     "text": [
      "/opt/anaconda3/lib/python3.8/site-packages/sklearn/linear_model/_logistic.py:762: ConvergenceWarning: lbfgs failed to converge (status=1):\n",
      "STOP: TOTAL NO. of ITERATIONS REACHED LIMIT.\n",
      "\n",
      "Increase the number of iterations (max_iter) or scale the data as shown in:\n",
      "    https://scikit-learn.org/stable/modules/preprocessing.html\n",
      "Please also refer to the documentation for alternative solver options:\n",
      "    https://scikit-learn.org/stable/modules/linear_model.html#logistic-regression\n",
      "  n_iter_i = _check_optimize_result(\n"
     ]
    },
    {
     "data": {
      "text/plain": [
       "LogisticRegression()"
      ]
     },
     "execution_count": 89,
     "metadata": {},
     "output_type": "execute_result"
    }
   ],
   "source": [
    "lrclassifier.fit(train,traincat6)"
   ]
  },
  {
   "cell_type": "code",
   "execution_count": 90,
   "metadata": {},
   "outputs": [],
   "source": [
    "preds = lrclassifier.predict(test)"
   ]
  },
  {
   "cell_type": "markdown",
   "metadata": {},
   "source": [
    "> Q1: compute the accuracy of the predictions below:"
   ]
  },
  {
   "cell_type": "code",
   "execution_count": 91,
   "metadata": {},
   "outputs": [
    {
     "name": "stdout",
     "output_type": "stream",
     "text": [
      "0.91025\n"
     ]
    }
   ],
   "source": [
    "# TODO: add code to score here (hint: this can be done in a single line of code)\n",
    "print(np.mean(preds == testcat6))"
   ]
  },
  {
   "cell_type": "markdown",
   "metadata": {},
   "source": [
    "> Q2: How does this compare with Naive Bayes? In case you don't have the results handy, lets do it here: Logistic Regression performs a lot better than naive bayes in this case."
   ]
  },
  {
   "cell_type": "markdown",
   "metadata": {},
   "source": [
    "[BernoulliNB docs](https://scikit-learn.org/stable/modules/generated/sklearn.naive_bayes.BernoulliNB.html)"
   ]
  },
  {
   "cell_type": "code",
   "execution_count": 92,
   "metadata": {},
   "outputs": [
    {
     "data": {
      "text/plain": [
       "0.756"
      ]
     },
     "execution_count": 92,
     "metadata": {},
     "output_type": "execute_result"
    }
   ],
   "source": [
    "from sklearn.naive_bayes import BernoulliNB\n",
    "# TODO: add code to train, predict, score here (see sklearn documentation above for more info)\n",
    "nb = BernoulliNB()\n",
    "model = nb.fit(train, traincat6)\n",
    "nbpreds = model.predict(test)\n",
    "np.mean(nbpreds == testcat6)"
   ]
  },
  {
   "cell_type": "markdown",
   "metadata": {},
   "source": [
    "## Beyond Accuracy: ROC and AUC"
   ]
  },
  {
   "cell_type": "markdown",
   "metadata": {},
   "source": [
    "Label prediction accuracy is a useful but sometimes misleading measure. E.g., for data with 10% positives, a predictor that always says \"no\" will be 90% accurate. It is also very often useful to control the ratio of positive/negative labels to minimize a loss function. E.g., false positives are generally more acceptable in computational marketing (it means you show an ad to someone who might not be interested) than false negatives (you failed to show an ad to someone who might be interest, and might generate some revenue for you). \n",
    "\n",
    "Logistic Regression computes the probability of a label and that output is useful for both richer evaluation methods, and for making more careful tradeoffs between positives and negatives. "
   ]
  },
  {
   "cell_type": "markdown",
   "metadata": {},
   "source": [
    "The ROC (Receiver-Operator Characteristic) curve is a very useful tool for interpreting classifier performance. See the background material here:\n",
    "https://en.wikipedia.org/wiki/Receiver_operating_characteristic .\n",
    "It shows the classifiers TPR (True-Positive Rate) vs FPR (False-Positive Rate) at various thresholds. The threshold isnt shown on the plot but can be inferred later. TPR and FPR are defined as:\n",
    "\n",
    "* TPR = TP / (TP + FN)   # based only on actual positive instances\n",
    "* FPR = FP / (FP + TN)   # based only on actual negative instances\n",
    "\n",
    "where TP = true positive, FN = false negative (actually a positive which is mislabelled), etc. \n",
    "Neither quantity involves a mix of positives and negatives. So ROC curves are insensitive to the actual ratio of positives to negatives. \n",
    "\n",
    "To use ROC, we first use a modified version of the \".predict\" method which returns label probabilities:"
   ]
  },
  {
   "cell_type": "code",
   "execution_count": 93,
   "metadata": {},
   "outputs": [
    {
     "data": {
      "text/plain": [
       "(4000, 2)"
      ]
     },
     "execution_count": 93,
     "metadata": {},
     "output_type": "execute_result"
    }
   ],
   "source": [
    "preds = lrclassifier.predict_proba(test);\n",
    "preds.shape"
   ]
  },
  {
   "cell_type": "markdown",
   "metadata": {},
   "source": [
    "From which you can see that there are 2 columns, i.e., one probability of false and one for true. Verify that the sum of every row is 1:"
   ]
  },
  {
   "cell_type": "code",
   "execution_count": 94,
   "metadata": {},
   "outputs": [
    {
     "data": {
      "text/plain": [
       "array([1., 1., 1., ..., 1., 1., 1.])"
      ]
     },
     "execution_count": 94,
     "metadata": {},
     "output_type": "execute_result"
    }
   ],
   "source": [
    "np.sum(preds,axis=1)"
   ]
  },
  {
   "cell_type": "markdown",
   "metadata": {},
   "source": [
    "We want the probabilities of cat6 membership = true, which is column 1:"
   ]
  },
  {
   "cell_type": "code",
   "execution_count": 95,
   "metadata": {},
   "outputs": [],
   "source": [
    "preds6 = preds[:,1]"
   ]
  },
  {
   "cell_type": "markdown",
   "metadata": {},
   "source": [
    "and we'll do a ROC plot for it. ROC plots represent the performance of a classifier over a range of possible threshold values, showing the true positive rate and false positives rates at those thresholds. In Python, do"
   ]
  },
  {
   "cell_type": "code",
   "execution_count": 96,
   "metadata": {},
   "outputs": [],
   "source": [
    "from sklearn.metrics import roc_curve, roc_auc_score\n",
    "rc = roc_curve(testcat6, preds6)"
   ]
  },
  {
   "cell_type": "markdown",
   "metadata": {},
   "source": [
    "This function returns the X and Y coordinates of the ROC plot. To see it, do:"
   ]
  },
  {
   "cell_type": "code",
   "execution_count": 97,
   "metadata": {},
   "outputs": [
    {
     "data": {
      "text/plain": [
       "[<matplotlib.lines.Line2D at 0x7fb090830820>]"
      ]
     },
     "execution_count": 97,
     "metadata": {},
     "output_type": "execute_result"
    },
    {
     "data": {
      "image/png": "[encoded data removed]",
      "text/plain": [
       "<Figure size 432x288 with 1 Axes>"
      ]
     },
     "metadata": {
      "needs_background": "light"
     },
     "output_type": "display_data"
    }
   ],
   "source": [
    "plt.plot(rc[0],rc[1])"
   ]
  },
  {
   "cell_type": "markdown",
   "metadata": {},
   "source": [
    "> Q3: What is the True positive rate at an FPR of 0.2 ? "
   ]
  },
  {
   "cell_type": "code",
   "execution_count": 98,
   "metadata": {},
   "outputs": [],
   "source": [
    "# TODO: your response here\n",
    "# The TPR is about 0.9xxx at FPR 0.2"
   ]
  },
  {
   "cell_type": "markdown",
   "metadata": {},
   "source": [
    "Finally, the ROC curve is sometimes too much information, especially if you want to compare performance of many classifiers or datasets. The overall performance is well-characterized by the AUC or Area Under the Curve. Which is exactly what the name suggests, the area under the blue curve. Since a ROC plot lies in a 1 x 1 square, the area is always <= 1.0. A random predictor puts positives and negatives on a diagonal line with slope = 1, and so a random predictor has AUC = 0.5\n",
    "\n",
    "Lets check the AUC for our prediction:"
   ]
  },
  {
   "cell_type": "code",
   "execution_count": 99,
   "metadata": {},
   "outputs": [
    {
     "data": {
      "text/plain": [
       "0.9637782435649894"
      ]
     },
     "execution_count": 99,
     "metadata": {},
     "output_type": "execute_result"
    }
   ],
   "source": [
    "roc_auc_score(testcat6, preds6)"
   ]
  },
  {
   "cell_type": "markdown",
   "metadata": {},
   "source": [
    "## Critical Thinking: Interpreting AUC scores"
   ]
  },
  {
   "cell_type": "markdown",
   "metadata": {},
   "source": [
    "The AUC score varies between 0.5 (random prediction) and 1.0. A common misconception is that a \"perfect\" predictor, i.e. a predictor that knows the exact probability of a label, will give a score of 1.0. That's incorrect. There are two sources of noise in the generation of a ROC plot:\n",
    "* The difference between the true and predicted probability of a label\n",
    "* The variance introduced by Bernoulli sampling to generate the label\n",
    "\n",
    "The latter is always present and depends on the distribution of label probabilities, the former depends on how good the model is. \n",
    "\n",
    "To see this, imagine a binary label distribution where each data label has a true probability of 0.5. A perfect predictor knows these probabilities but since they all the same, the sorted labels for the ROC plot would still be a random distribution of true and false. The ROC plot would have an AUC of 0.5. AUC scores very close to 1 are possible, but require that the true label distribution include a large fraction of probabilities close to either 1 or 0. That's because the variance of a Bernoulli variable is p(1-p), which is small if p is near 0 or 1. \n",
    "\n",
    "Let's estimate the ROC AUC for a perfect predictor on a similar distribution to our dataset. We can't know this distribution, but we can use the model's prediction  as an approximation to it. "
   ]
  },
  {
   "cell_type": "markdown",
   "metadata": {},
   "source": [
    "First we'll generate some uniform random numbers in [0,1], one for each test point. "
   ]
  },
  {
   "cell_type": "code",
   "execution_count": 100,
   "metadata": {},
   "outputs": [
    {
     "data": {
      "text/plain": [
       "array([0.38447533, 0.29685968, 0.90830236, ..., 0.89328141, 0.21841166,\n",
       "       0.45815034])"
      ]
     },
     "execution_count": 100,
     "metadata": {},
     "output_type": "execute_result"
    }
   ],
   "source": [
    "a = npr.random(testcat6.shape)\n",
    "a"
   ]
  },
  {
   "cell_type": "markdown",
   "metadata": {},
   "source": [
    "Next we'll generate Bernoulli random numbers using the predictions as the underlying probability. We use the random numbers we just generated to do that. i.e. to generate a random Bernoulli variable with probability p, you generate a uniform random variable in [0,1] and test if (u < p). The probability that this test succeeds is exactly p. "
   ]
  },
  {
   "cell_type": "code",
   "execution_count": 101,
   "metadata": {},
   "outputs": [
    {
     "data": {
      "text/plain": [
       "array([False,  True,  True, ...,  True, False, False])"
      ]
     },
     "execution_count": 101,
     "metadata": {},
     "output_type": "execute_result"
    }
   ],
   "source": [
    "x = (a < preds6)\n",
    "x"
   ]
  },
  {
   "cell_type": "code",
   "execution_count": 102,
   "metadata": {},
   "outputs": [
    {
     "data": {
      "text/plain": [
       "0.984571793373358"
      ]
     },
     "execution_count": 102,
     "metadata": {},
     "output_type": "execute_result"
    }
   ],
   "source": [
    "roc_auc_score(x, preds6)"
   ]
  },
  {
   "cell_type": "markdown",
   "metadata": {},
   "source": [
    "Compare this number with the AUC you computed earlier. To be clear again what this number is, it is the score of a *perfect* label predictor with the label probability distribution that our classifier has. It is an estimate of how well our classifier could do on this dataset. \n",
    "\n",
    "This secondary AUC calculation is a useful normalizing test when interpreting AUC scores. A common mistake is to assume that a model with AUC 0.85 on dataset A is better (i.e. would score higher on a common dataset) than a model with a score of 0.70 on dataset B. This is not true. It depends strongly on the dataset. The model with score 0.70 may be generating perfect or near-perfect predictions. "
   ]
  },
  {
   "cell_type": "code",
   "execution_count": 103,
   "metadata": {},
   "outputs": [
    {
     "data": {
      "text/plain": [
       "(array([1.00e+00, 1.00e+00, 1.00e+00, 0.00e+00, 2.00e+00, 3.00e+00,\n",
       "        0.00e+00, 0.00e+00, 2.00e+00, 1.00e+00, 2.00e+00, 3.00e+00,\n",
       "        0.00e+00, 3.00e+00, 1.00e+00, 2.00e+00, 5.00e+00, 1.00e+01,\n",
       "        8.00e+00, 6.00e+00, 9.00e+00, 5.00e+00, 1.10e+01, 1.00e+01,\n",
       "        8.00e+00, 2.60e+01, 2.50e+01, 2.00e+01, 2.60e+01, 3.20e+01,\n",
       "        3.30e+01, 4.80e+01, 4.10e+01, 6.00e+01, 6.60e+01, 7.00e+01,\n",
       "        6.90e+01, 9.60e+01, 1.08e+02, 1.20e+02, 1.03e+02, 1.26e+02,\n",
       "        1.39e+02, 1.42e+02, 1.22e+02, 1.32e+02, 1.13e+02, 1.27e+02,\n",
       "        1.52e+02, 1.91e+03]),\n",
       " array([-1.11984875e+01, -1.09745178e+01, -1.07505480e+01, -1.05265783e+01,\n",
       "        -1.03026085e+01, -1.00786388e+01, -9.85466902e+00, -9.63069927e+00,\n",
       "        -9.40672952e+00, -9.18275977e+00, -8.95879002e+00, -8.73482027e+00,\n",
       "        -8.51085052e+00, -8.28688077e+00, -8.06291102e+00, -7.83894127e+00,\n",
       "        -7.61497151e+00, -7.39100176e+00, -7.16703201e+00, -6.94306226e+00,\n",
       "        -6.71909251e+00, -6.49512276e+00, -6.27115301e+00, -6.04718326e+00,\n",
       "        -5.82321351e+00, -5.59924376e+00, -5.37527401e+00, -5.15130426e+00,\n",
       "        -4.92733451e+00, -4.70336476e+00, -4.47939501e+00, -4.25542526e+00,\n",
       "        -4.03145551e+00, -3.80748576e+00, -3.58351601e+00, -3.35954626e+00,\n",
       "        -3.13557651e+00, -2.91160676e+00, -2.68763701e+00, -2.46366725e+00,\n",
       "        -2.23969750e+00, -2.01572775e+00, -1.79175800e+00, -1.56778825e+00,\n",
       "        -1.34381850e+00, -1.11984875e+00, -8.95879002e-01, -6.71909251e-01,\n",
       "        -4.47939501e-01, -2.23969751e-01, -1.57277374e-10]),\n",
       " <a list of 50 Patch objects>)"
      ]
     },
     "execution_count": 103,
     "metadata": {},
     "output_type": "execute_result"
    },
    {
     "data": {
      "image/png": "[encoded data removed]",
      "text/plain": [
       "<Figure size 432x288 with 1 Axes>"
      ]
     },
     "metadata": {
      "needs_background": "light"
     },
     "output_type": "display_data"
    }
   ],
   "source": [
    "plt.hist(np.log10(preds6),50)"
   ]
  },
  {
   "cell_type": "markdown",
   "metadata": {},
   "source": [
    "Which is an enormous range of values. Most probabilities are very close to zero or one, which is why this dataset has such a high ROC AUC score.\n",
    "\n",
    "Suppose instead we had a dataset with a less wide distribution. We can use a lognormal distribution to simulate this for us:"
   ]
  },
  {
   "cell_type": "code",
   "execution_count": 12,
   "metadata": {},
   "outputs": [
    {
     "data": {
      "text/plain": [
       "array([0.02523494, 0.03390897, 0.03590903, ..., 0.0302635 , 0.1353268 ,\n",
       "       0.01218553])"
      ]
     },
     "execution_count": 12,
     "metadata": {},
     "output_type": "execute_result"
    }
   ],
   "source": [
    "cprob = np.minimum(npr.lognormal(-4,1,10000),1.0)"
   ]
  },
  {
   "cell_type": "markdown",
   "metadata": {},
   "source": [
    "This is a pretty good model, e.g. for the range of user's probabilities of clicking on an ad. Let's look at a histogram of the log10 of the values (a direct histogram will be too squashed near 1). "
   ]
  },
  {
   "cell_type": "code",
   "execution_count": 105,
   "metadata": {},
   "outputs": [
    {
     "data": {
      "text/plain": [
       "(array([   2.,    3.,   23.,   47.,  125.,  276.,  538.,  896., 1248.,\n",
       "        1547., 1477., 1402., 1039.,  690.,  405.,  174.,   71.,   25.,\n",
       "           8.,    4.]),\n",
       " array([-3.47539514, -3.30513579, -3.13487644, -2.96461709, -2.79435774,\n",
       "        -2.62409839, -2.45383904, -2.28357969, -2.11332034, -1.94306099,\n",
       "        -1.77280164, -1.60254229, -1.43228294, -1.26202359, -1.09176424,\n",
       "        -0.9215049 , -0.75124555, -0.5809862 , -0.41072685, -0.2404675 ,\n",
       "        -0.07020815]),\n",
       " <a list of 20 Patch objects>)"
      ]
     },
     "execution_count": 105,
     "metadata": {},
     "output_type": "execute_result"
    },
    {
     "data": {
      "image/png": "[encoded data removed]",
      "text/plain": [
       "<Figure size 432x288 with 1 Axes>"
      ]
     },
     "metadata": {
      "needs_background": "light"
     },
     "output_type": "display_data"
    }
   ],
   "source": [
    "plt.hist(np.log10(cprob),20)"
   ]
  },
  {
   "cell_type": "markdown",
   "metadata": {},
   "source": [
    "So that's our distribution of virtual users. Notice that the values (which represent click probabilities) range over several orders of magnitude since we plotted their log10. Next we simulate users' click behavior. Once again we generate a uniform random variable u for each user, and output 1 if u < the user's click probability given by cprob. \n",
    "\n",
    "Finally we compute the AUC on that data, which is the score of a perfect predictor on this data."
   ]
  },
  {
   "cell_type": "code",
   "execution_count": 106,
   "metadata": {},
   "outputs": [
    {
     "data": {
      "text/plain": [
       "0.7910372642577156"
      ]
     },
     "execution_count": 106,
     "metadata": {},
     "output_type": "execute_result"
    }
   ],
   "source": [
    "a = npr.random(cprob.shape)\n",
    "x = (a < cprob)\n",
    "roc_auc_score(x, cprob)"
   ]
  },
  {
   "cell_type": "markdown",
   "metadata": {},
   "source": [
    "So that's the AUC score for a perfect predictor on this (artificial) dataset. This is lower than the *real* predictions on the RCV1 text dataset. So be careful when interpreting AUC scores. There is no absolute scale for them, and they depend a lot on the dataset.\n",
    "\n",
    "Another important point is that the AUC value for mid-range scores can have quite a lot of variance. Try re-evaluating the last cell to see what happens. "
   ]
  },
  {
   "cell_type": "markdown",
   "metadata": {},
   "source": [
    "> Q4: What changes do you think you should make to the distribution cprob to increase the ROC AUC score?"
   ]
  },
  {
   "cell_type": "code",
   "execution_count": 107,
   "metadata": {},
   "outputs": [],
   "source": [
    "# TODO: your response here\n",
    "# The AUC Score is mainly used for binary classifier. To improve the score by changing cprob we can do it in two ways by my understanding. The first is that we can use \n",
    "# binary values insted of probalities that will work bettr for a binary classifier. The second way we can use some other parameter for the lognormal function to bring it \n",
    "# closer to 0 or shifting it to the right that might also increase the score. "
   ]
  },
  {
   "cell_type": "markdown",
   "metadata": {},
   "source": [
    "## Random Forests"
   ]
  },
  {
   "cell_type": "markdown",
   "metadata": {},
   "source": [
    "Random Forests are an extremely accurate classifier for datasets of moderate size. Let's try them out here. We'll load the MNIST data now, but first its probably a good idea to restart your kernel to reduce memory use. Click on the \"Kernel\" menu above and then \"Restart\". "
   ]
  },
  {
   "cell_type": "code",
   "execution_count": 1,
   "metadata": {},
   "outputs": [],
   "source": [
    "import numpy as np\n",
    "import scipy.sparse as sp\n",
    "import numpy.random as npr\n",
    "import matplotlib.pyplot as plt\n",
    "%matplotlib inline"
   ]
  },
  {
   "cell_type": "code",
   "execution_count": 2,
   "metadata": {},
   "outputs": [],
   "source": [
    "train0=np.loadtxt(\"train.fmat.txt\")\n",
    "test0=np.loadtxt(\"test.fmat.txt\")\n",
    "train = np.transpose(train0[:,0:4000])\n",
    "test = np.transpose(test0[:,0:2000])\n",
    "traincats = np.loadtxt(\"ictrain.imat.txt\")\n",
    "testcats = np.loadtxt(\"ictest.imat.txt\")"
   ]
  },
  {
   "cell_type": "markdown",
   "metadata": {},
   "source": [
    "Because we're going to tuning the parameters of RFs on some test data, we need to split our test set into a validation set and a final test set to avoid overfitting:"
   ]
  },
  {
   "cell_type": "code",
   "execution_count": 3,
   "metadata": {},
   "outputs": [],
   "source": [
    "validation = test[0:1000,:]\n",
    "finaltest = test[1000:2000,:]\n",
    "validationcats = testcats[0:1000]\n",
    "finaltestcats = testcats[1000:2000]"
   ]
  },
  {
   "cell_type": "code",
   "execution_count": 4,
   "metadata": {},
   "outputs": [
    {
     "data": {
      "text/plain": [
       "RandomForestClassifier(bootstrap=False, max_features='log2', n_estimators=250,\n",
       "                       n_jobs=4)"
      ]
     },
     "execution_count": 4,
     "metadata": {},
     "output_type": "execute_result"
    }
   ],
   "source": [
    "from sklearn.ensemble import RandomForestClassifier\n",
    "rfclassifier = RandomForestClassifier(criterion='gini',max_features='log2',n_estimators=250,n_jobs=4,bootstrap=False)\n",
    "rfclassifier"
   ]
  },
  {
   "cell_type": "code",
   "execution_count": 5,
   "metadata": {},
   "outputs": [
    {
     "data": {
      "text/plain": [
       "0.933"
      ]
     },
     "execution_count": 5,
     "metadata": {},
     "output_type": "execute_result"
    }
   ],
   "source": [
    "rfclassifier.fit(train,traincats)\n",
    "preds = rfclassifier.predict(validation)\n",
    "np.mean(preds == validationcats)"
   ]
  },
  {
   "cell_type": "markdown",
   "metadata": {},
   "source": [
    "Read the [scikit-learn documentation for Random Forests](https://scikit-learn.org/stable/modules/generated/sklearn.ensemble.RandomForestClassifier.html?highlight=random%20forest#sklearn.ensemble.RandomForestClassifier) to make sure you understand the meaning of all the parameters in the call to the RandForestClassifier constructor. Which ones do you think will improve accuracy the most? **NOTE** you don't need to tune n_jobs. Its the number of threads that the classifier code runs and it only affects running time. It should be set to the number of cores that your processor has. \n",
    "\n",
    "Try tuning the classifier with the validation set above to get better than 90% accuracy on the validation set. Don't touch the final test set until you're done tuning. "
   ]
  },
  {
   "cell_type": "markdown",
   "metadata": {},
   "source": [
    "> Q5: Make a table with at least two values you tried each for criterion, max_features, n_estimators, and bootstrap. What trends to you notice for each one? \n",
    "\n",
    "> Q6: Report your validation and final test accuracy. Include all the parameters you used, e.g., include the line where you invoked the RandomForestClassifier constructor. "
   ]
  },
  {
   "cell_type": "code",
   "execution_count": 9,
   "metadata": {},
   "outputs": [
    {
     "data": {
      "text/html": [
       "<div>\n",
       "<style scoped>\n",
       "    .dataframe tbody tr th:only-of-type {\n",
       "        vertical-align: middle;\n",
       "    }\n",
       "\n",
       "    .dataframe tbody tr th {\n",
       "        vertical-align: top;\n",
       "    }\n",
       "\n",
       "    .dataframe thead th {\n",
       "        text-align: right;\n",
       "    }\n",
       "</style>\n",
       "<table border=\"1\" class=\"dataframe\">\n",
       "  <thead>\n",
       "    <tr style=\"text-align: right;\">\n",
       "      <th></th>\n",
       "      <th>Attempt</th>\n",
       "      <th>Criterion</th>\n",
       "      <th>max_features</th>\n",
       "      <th>n_estimators</th>\n",
       "      <th>n_jobs</th>\n",
       "      <th>bootstrap</th>\n",
       "      <th>Accuracy</th>\n",
       "    </tr>\n",
       "  </thead>\n",
       "  <tbody>\n",
       "    <tr>\n",
       "      <th>0</th>\n",
       "      <td>1st</td>\n",
       "      <td>entropy</td>\n",
       "      <td>50</td>\n",
       "      <td>45</td>\n",
       "      <td>4</td>\n",
       "      <td>False</td>\n",
       "      <td>0.918</td>\n",
       "    </tr>\n",
       "    <tr>\n",
       "      <th>1</th>\n",
       "      <td>2nd</td>\n",
       "      <td>entropy</td>\n",
       "      <td>50</td>\n",
       "      <td>45</td>\n",
       "      <td>4</td>\n",
       "      <td>True</td>\n",
       "      <td>0.916</td>\n",
       "    </tr>\n",
       "    <tr>\n",
       "      <th>2</th>\n",
       "      <td>3rd</td>\n",
       "      <td>gini</td>\n",
       "      <td>50</td>\n",
       "      <td>45</td>\n",
       "      <td>4</td>\n",
       "      <td>True</td>\n",
       "      <td>0.908</td>\n",
       "    </tr>\n",
       "    <tr>\n",
       "      <th>3</th>\n",
       "      <td>4th</td>\n",
       "      <td>gini</td>\n",
       "      <td>50</td>\n",
       "      <td>45</td>\n",
       "      <td>4</td>\n",
       "      <td>False</td>\n",
       "      <td>0.920</td>\n",
       "    </tr>\n",
       "    <tr>\n",
       "      <th>4</th>\n",
       "      <td>5th</td>\n",
       "      <td>entropy</td>\n",
       "      <td>auto</td>\n",
       "      <td>250</td>\n",
       "      <td>4</td>\n",
       "      <td>True</td>\n",
       "      <td>0.929</td>\n",
       "    </tr>\n",
       "    <tr>\n",
       "      <th>5</th>\n",
       "      <td>6th</td>\n",
       "      <td>gini</td>\n",
       "      <td>sqrt</td>\n",
       "      <td>250</td>\n",
       "      <td>4</td>\n",
       "      <td>True</td>\n",
       "      <td>0.930</td>\n",
       "    </tr>\n",
       "    <tr>\n",
       "      <th>6</th>\n",
       "      <td>7th</td>\n",
       "      <td>gini</td>\n",
       "      <td>log2</td>\n",
       "      <td>250</td>\n",
       "      <td>4</td>\n",
       "      <td>False</td>\n",
       "      <td>0.933</td>\n",
       "    </tr>\n",
       "  </tbody>\n",
       "</table>\n",
       "</div>"
      ],
      "text/plain": [
       "  Attempt Criterion max_features  n_estimators  n_jobs bootstrap  Accuracy\n",
       "0     1st   entropy           50            45       4     False     0.918\n",
       "1     2nd   entropy           50            45       4      True     0.916\n",
       "2     3rd      gini           50            45       4      True     0.908\n",
       "3     4th      gini           50            45       4     False     0.920\n",
       "4     5th   entropy         auto           250       4      True     0.929\n",
       "5     6th      gini         sqrt           250       4      True     0.930\n",
       "6     7th      gini         log2           250       4     False     0.933"
      ]
     },
     "execution_count": 9,
     "metadata": {},
     "output_type": "execute_result"
    }
   ],
   "source": [
    "# TODO: code and response for Q5 here\n",
    "import pandas as pd\n",
    "table = {'Attempt':['1st','2nd','3rd','4th','5th','6th','7th'],\n",
    "         'Criterion':['entropy','entropy','gini','gini','entropy','gini','gini'] , \n",
    "         'max_features':[50,50,50,50,'auto','sqrt','log2'] , \n",
    "         'n_estimators':[45,45,45,45,250,250,250] , \n",
    "         'n_jobs':[4,4,4,4,4,4,4], \n",
    "         'bootstrap':['False','True','True','False','True','True',False], \n",
    "         'Accuracy':[0.918,0.916,0.908,0.92,0.929,0.93,0.933]}\n",
    "table = pd.DataFrame(table)\n",
    "table\n"
   ]
  },
  {
   "cell_type": "code",
   "execution_count": null,
   "metadata": {},
   "outputs": [],
   "source": [
    "# TODO: response/code for Q6 here (either a written response or reporting with code are fine)\n",
    "# NOTE : I restarted the kernal everytime to make sure the values were correct\n",
    "# Criterion = Used to merasure the quality of the split\n",
    "# n_estimators = number of trees in the forest.\n",
    "# max_features = number of features considered when looking for the best split.\n",
    "# bootstrap = If bootstrap is set to false the whole data set is used to make each tree.\n",
    "\n",
    "# I think the most important parameters are the n_estimators and n_features incresing the \n",
    "# number of trees in the forest whithot using the whole dataset to produce each tree.\n",
    "# Gave me the best results\n",
    "\n"
   ]
  },
  {
   "cell_type": "code",
   "execution_count": 8,
   "metadata": {},
   "outputs": [
    {
     "data": {
      "text/plain": [
       "0.913"
      ]
     },
     "execution_count": 8,
     "metadata": {},
     "output_type": "execute_result"
    }
   ],
   "source": [
    "preds = rfclassifier.predict(finaltest)\n",
    "np.mean(preds == finaltestcats)"
   ]
  },
  {
   "cell_type": "markdown",
   "metadata": {},
   "source": [
    "> Q7: Reflect on and explain any differences between your validation and final test accuracy scores. "
   ]
  },
  {
   "cell_type": "code",
   "execution_count": null,
   "metadata": {},
   "outputs": [],
   "source": [
    "# TODO: your response here:\n",
    "# While tuning the algorithmn with differnt parameters with the validation dataset \n",
    "# definitely help in achieving a higher accuracy on the final test dataset. \n",
    "# This shows us that it is important to make sure that we tune our algorithmns based on the \n",
    "# dataset so we get more accurate and efficient results for the given application. "
   ]
  },
  {
   "cell_type": "markdown",
   "metadata": {},
   "source": [
    "## Submit Your Responses"
   ]
  },
  {
   "cell_type": "markdown",
   "metadata": {},
   "source": [
    "Submit this notebook on Canvas under Lab 7 by Friday, November 6th at 11:59PM."
   ]
  }
 ],
 "metadata": {
  "kernelspec": {
   "display_name": "Python 3",
   "language": "python",
   "name": "python3"
  },
  "language_info": {
   "codemirror_mode": {
    "name": "ipython",
    "version": 3
   },
   "file_extension": ".py",
   "mimetype": "text/x-python",
   "name": "python",
   "nbconvert_exporter": "python",
   "pygments_lexer": "ipython3",
   "version": "3.8.5"
  }
 },
 "nbformat": 4,
 "nbformat_minor": 4
}
